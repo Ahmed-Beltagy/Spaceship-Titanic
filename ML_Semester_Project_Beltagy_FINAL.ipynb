{
 "cells": [
  {
   "cell_type": "markdown",
   "id": "23738603",
   "metadata": {},
   "source": [
    "<center><h1 style=\"color: gray\">Spaceship Titanic</h1></center>"
   ]
  },
  {
   "cell_type": "markdown",
   "id": "8cec84d9",
   "metadata": {},
   "source": [
    "<center><strong><h1 style=\"color: navy\">By: Ahmed Zaki Elbeltagy</h1></strong></center>\n",
    "<center><strong><h1 style=\"color: navy\">ID: 202002986</h1></strong></center>"
   ]
  },
  {
   "cell_type": "markdown",
   "id": "ea688383",
   "metadata": {},
   "source": [
    "<img src=https://storage.googleapis.com/kaggle-media/competitions/Spaceship%20Titanic/joel-filipe-QwoNAhbmLLo-unsplash.jpg width=\"600\">"
   ]
  },
  {
   "cell_type": "markdown",
   "id": "589abdf1",
   "metadata": {},
   "source": [
    "### Table of Contents\n",
    "<ul>\n",
    "<li><a href=\"#problem\">1. Problem overview</a></li>\n",
    "<li><a href=\"#lib\">2. importing needed libraries</a></li>\n",
    "<li><a href=\"#explore\">3. Exploring the dataset</a></li>\n",
    "<li><a href=\"#preprocess\">4. Pre-Processing</a></li>\n",
    "<li><a href=\"#eda\">5. EDA</a></li>\n",
    "<li><a href=\"#model\">6. Modeling</a></li>\n",
    "<li><a href=\"#hyper\">7. HyperParameters Tuning</a>\n",
    "<li><a href=\"#res\">8. Results</a>\n",
    "</ul>"
   ]
  },
  {
   "cell_type": "markdown",
   "id": "32ed4319",
   "metadata": {},
   "source": [
    "<a id='problem'></a>\n",
    "\n",
    "# <em style=\"color:teal\">Problem Overview</em>\n",
    "\n",
    "#### The Spaceship Titanic was an interstellar passenger liner launched a month ago. With almost 13,000 passengers on board, the \n",
    "\n",
    "#### vessel set out on its maiden voyage transporting emigrants from our solar system to three newly habitable exoplanets orbiting nearby stars.\n",
    "\n",
    "#### While rounding Alpha Centauri en route to its first destination—the torrid 55 Cancri E—the unwary Spaceship Titanic collided \n",
    "\n",
    "#### with a spacetime anomaly hidden within a dust cloud. Sadly, it met a similar fate as its namesake from 1000 years before. Though \n",
    "\n",
    "#### the ship stayed intact, almost half of the passengers were transported to an alternate dimension!\n",
    "\n",
    "\n",
    "\n",
    "# <em style=\"color:teal\">Dataset Description</em>\n",
    "\n",
    "### PassengerId\n",
    "\n",
    "#### A unique Id for each passenger. Each Id takes the form gggg_pp where gggg indicates a group the passenger is travelling with \n",
    "\n",
    "#### and pp is their number within the group. People in a group are often family members, but not always.\n",
    "\n",
    "# ------------------------------------------------------------------------------------------------------------\n",
    "\n",
    "### HomePlanet\n",
    "#### The planet the passenger departed from, typically their planet of permanent residence.\n",
    "\n",
    "# ------------------------------------------------------------------------------------------------------------\n",
    "\n",
    "### CryoSleep\n",
    "\n",
    "#### Indicates whether the passenger elected to be put into suspended animation for the duration of the voyage. Passengers in \n",
    "\n",
    "#### cryosleep are confined to their cabins.\n",
    "\n",
    "# ------------------------------------------------------------------------------------------------------------\n",
    "\n",
    "### Cabin\n",
    "\n",
    "#### The cabin number where the passenger is staying. Takes the form deck/num/side, where side can be either P for Port or S for \n",
    "\n",
    "#### Starboard.\n",
    "\n",
    "# ------------------------------------------------------------------------------------------------------------\n",
    "\n",
    "### Destination\n",
    "\n",
    "#### The planet the passenger will be debarking to.\n",
    "\n",
    "# ------------------------------------------------------------------------------------------------------------\n",
    "\n",
    "### Age\n",
    "\n",
    "#### he age of the passenger.\n",
    "\n",
    "# ------------------------------------------------------------------------------------------------------------\n",
    "\n",
    "### VIP\n",
    "\n",
    "#### Whether the passenger has paid for special VIP service during the voyage.\n",
    "\n",
    "# ------------------------------------------------------------------------------------------------------------\n",
    "\n",
    "### RoomService, FoodCourt, ShoppingMall, Spa, VRDeck\n",
    "\n",
    "#### Amount the passenger has billed at each of the Spaceship Titanic's many luxury amenities.\n",
    "\n",
    "# ------------------------------------------------------------------------------------------------------------\n",
    "\n",
    "### Name\n",
    "\n",
    "#### The first and last names of the passenger.\n",
    "\n",
    "# ------------------------------------------------------------------------------------------------------------\n",
    "\n",
    "### Transported\n",
    "\n",
    "#### Whether the passenger was transported to another dimension. This is the target, the column you are trying to predict.\n",
    "\n",
    "# ------------------------------------------------------------------------------------------------------------\n",
    "\n",
    "## <strong><em style=\"color:purple\"> Our Target</em></strong>\n",
    "\n",
    "### predict which passengers were transported by the anomaly using records recovered from the spaceship’s \n",
    "\n",
    "### damaged computer system. So I am going to help save them and change history! 😂😂😂😂\n",
    "\n",
    "### 🤔We can see that it is very exciting and interesting and serious problem that we need to solve🤔"
   ]
  },
  {
   "cell_type": "markdown",
   "id": "71087b79",
   "metadata": {},
   "source": [
    "<a id='lib'></a>\n",
    "\n",
    "<center><strong><h1 style=\"color:navy\">Importing Libraries</h1></strong></center>"
   ]
  },
  {
   "cell_type": "code",
   "execution_count": 1,
   "id": "afd0cf94",
   "metadata": {},
   "outputs": [
    {
     "name": "stderr",
     "output_type": "stream",
     "text": [
      "C:\\Users\\HP\\Anaconda3\\lib\\site-packages\\pandas\\_testing.py:24: FutureWarning: In the future `np.bool` will be defined as the corresponding NumPy scalar.\n",
      "  import pandas._libs.testing as _testing\n"
     ]
    },
    {
     "ename": "AttributeError",
     "evalue": "module 'numpy' has no attribute 'bool'.\n`np.bool` was a deprecated alias for the builtin `bool`. To avoid this error in existing code, use `bool` by itself. Doing this will not modify any behavior and is safe. If you specifically wanted the numpy scalar type, use `np.bool_` here.\nThe aliases was originally deprecated in NumPy 1.20; for more details and guidance see the original release note at:\n    https://numpy.org/devdocs/release/1.20.0-notes.html#deprecations",
     "output_type": "error",
     "traceback": [
      "\u001b[1;31m---------------------------------------------------------------------------\u001b[0m",
      "\u001b[1;31mAttributeError\u001b[0m                            Traceback (most recent call last)",
      "\u001b[1;32m<ipython-input-1-b91e2514ba72>\u001b[0m in \u001b[0;36m<module>\u001b[1;34m\u001b[0m\n\u001b[0;32m      1\u001b[0m \u001b[1;32mimport\u001b[0m \u001b[0mtime\u001b[0m\u001b[1;33m\u001b[0m\u001b[1;33m\u001b[0m\u001b[0m\n\u001b[1;32m----> 2\u001b[1;33m \u001b[1;32mimport\u001b[0m \u001b[0mpandas\u001b[0m \u001b[1;32mas\u001b[0m \u001b[0mpd\u001b[0m\u001b[1;33m\u001b[0m\u001b[1;33m\u001b[0m\u001b[0m\n\u001b[0m\u001b[0;32m      3\u001b[0m \u001b[1;32mimport\u001b[0m \u001b[0mmatplotlib\u001b[0m\u001b[1;33m.\u001b[0m\u001b[0mpyplot\u001b[0m \u001b[1;32mas\u001b[0m \u001b[0mplt\u001b[0m\u001b[1;33m\u001b[0m\u001b[1;33m\u001b[0m\u001b[0m\n\u001b[0;32m      4\u001b[0m \u001b[0mget_ipython\u001b[0m\u001b[1;33m(\u001b[0m\u001b[1;33m)\u001b[0m\u001b[1;33m.\u001b[0m\u001b[0mrun_line_magic\u001b[0m\u001b[1;33m(\u001b[0m\u001b[1;34m'matplotlib'\u001b[0m\u001b[1;33m,\u001b[0m \u001b[1;34m'inline'\u001b[0m\u001b[1;33m)\u001b[0m\u001b[1;33m\u001b[0m\u001b[1;33m\u001b[0m\u001b[0m\n\u001b[0;32m      5\u001b[0m \u001b[1;32mimport\u001b[0m \u001b[0mseaborn\u001b[0m \u001b[1;32mas\u001b[0m \u001b[0msns\u001b[0m\u001b[1;33m\u001b[0m\u001b[1;33m\u001b[0m\u001b[0m\n",
      "\u001b[1;32m~\\Anaconda3\\lib\\site-packages\\pandas\\__init__.py\u001b[0m in \u001b[0;36m<module>\u001b[1;34m\u001b[0m\n\u001b[0;32m    178\u001b[0m \u001b[1;33m\u001b[0m\u001b[0m\n\u001b[0;32m    179\u001b[0m \u001b[1;32mfrom\u001b[0m \u001b[0mpandas\u001b[0m\u001b[1;33m.\u001b[0m\u001b[0mutil\u001b[0m\u001b[1;33m.\u001b[0m\u001b[0m_tester\u001b[0m \u001b[1;32mimport\u001b[0m \u001b[0mtest\u001b[0m\u001b[1;33m\u001b[0m\u001b[1;33m\u001b[0m\u001b[0m\n\u001b[1;32m--> 180\u001b[1;33m \u001b[1;32mimport\u001b[0m \u001b[0mpandas\u001b[0m\u001b[1;33m.\u001b[0m\u001b[0mtesting\u001b[0m\u001b[1;33m\u001b[0m\u001b[1;33m\u001b[0m\u001b[0m\n\u001b[0m\u001b[0;32m    181\u001b[0m \u001b[1;32mimport\u001b[0m \u001b[0mpandas\u001b[0m\u001b[1;33m.\u001b[0m\u001b[0marrays\u001b[0m\u001b[1;33m\u001b[0m\u001b[1;33m\u001b[0m\u001b[0m\n\u001b[0;32m    182\u001b[0m \u001b[1;33m\u001b[0m\u001b[0m\n",
      "\u001b[1;32m~\\Anaconda3\\lib\\site-packages\\pandas\\testing.py\u001b[0m in \u001b[0;36m<module>\u001b[1;34m\u001b[0m\n\u001b[0;32m      3\u001b[0m \"\"\"\n\u001b[0;32m      4\u001b[0m \u001b[1;33m\u001b[0m\u001b[0m\n\u001b[1;32m----> 5\u001b[1;33m from pandas._testing import (\n\u001b[0m\u001b[0;32m      6\u001b[0m     \u001b[0massert_extension_array_equal\u001b[0m\u001b[1;33m,\u001b[0m\u001b[1;33m\u001b[0m\u001b[1;33m\u001b[0m\u001b[0m\n\u001b[0;32m      7\u001b[0m     \u001b[0massert_frame_equal\u001b[0m\u001b[1;33m,\u001b[0m\u001b[1;33m\u001b[0m\u001b[1;33m\u001b[0m\u001b[0m\n",
      "\u001b[1;32m~\\Anaconda3\\lib\\site-packages\\pandas\\_testing.py\u001b[0m in \u001b[0;36m<module>\u001b[1;34m\u001b[0m\n\u001b[0;32m     22\u001b[0m )\n\u001b[0;32m     23\u001b[0m \u001b[1;33m\u001b[0m\u001b[0m\n\u001b[1;32m---> 24\u001b[1;33m \u001b[1;32mimport\u001b[0m \u001b[0mpandas\u001b[0m\u001b[1;33m.\u001b[0m\u001b[0m_libs\u001b[0m\u001b[1;33m.\u001b[0m\u001b[0mtesting\u001b[0m \u001b[1;32mas\u001b[0m \u001b[0m_testing\u001b[0m\u001b[1;33m\u001b[0m\u001b[1;33m\u001b[0m\u001b[0m\n\u001b[0m\u001b[0;32m     25\u001b[0m \u001b[1;32mfrom\u001b[0m \u001b[0mpandas\u001b[0m\u001b[1;33m.\u001b[0m\u001b[0m_typing\u001b[0m \u001b[1;32mimport\u001b[0m \u001b[0mFilePathOrBuffer\u001b[0m\u001b[1;33m,\u001b[0m \u001b[0mFrameOrSeries\u001b[0m\u001b[1;33m\u001b[0m\u001b[1;33m\u001b[0m\u001b[0m\n\u001b[0;32m     26\u001b[0m \u001b[1;32mfrom\u001b[0m \u001b[0mpandas\u001b[0m\u001b[1;33m.\u001b[0m\u001b[0mcompat\u001b[0m \u001b[1;32mimport\u001b[0m \u001b[0m_get_lzma_file\u001b[0m\u001b[1;33m,\u001b[0m \u001b[0m_import_lzma\u001b[0m\u001b[1;33m\u001b[0m\u001b[1;33m\u001b[0m\u001b[0m\n",
      "\u001b[1;32mpandas\\_libs\\testing.pyx\u001b[0m in \u001b[0;36minit pandas._libs.testing\u001b[1;34m()\u001b[0m\n",
      "\u001b[1;32m~\\Anaconda3\\lib\\site-packages\\numpy\\__init__.py\u001b[0m in \u001b[0;36m__getattr__\u001b[1;34m(attr)\u001b[0m\n\u001b[0;32m    303\u001b[0m \u001b[1;33m\u001b[0m\u001b[0m\n\u001b[0;32m    304\u001b[0m         \u001b[1;32mif\u001b[0m \u001b[0mattr\u001b[0m \u001b[1;32min\u001b[0m \u001b[0m__former_attrs__\u001b[0m\u001b[1;33m:\u001b[0m\u001b[1;33m\u001b[0m\u001b[1;33m\u001b[0m\u001b[0m\n\u001b[1;32m--> 305\u001b[1;33m             \u001b[1;32mraise\u001b[0m \u001b[0mAttributeError\u001b[0m\u001b[1;33m(\u001b[0m\u001b[0m__former_attrs__\u001b[0m\u001b[1;33m[\u001b[0m\u001b[0mattr\u001b[0m\u001b[1;33m]\u001b[0m\u001b[1;33m)\u001b[0m\u001b[1;33m\u001b[0m\u001b[1;33m\u001b[0m\u001b[0m\n\u001b[0m\u001b[0;32m    306\u001b[0m \u001b[1;33m\u001b[0m\u001b[0m\n\u001b[0;32m    307\u001b[0m         \u001b[1;31m# Importing Tester requires importing all of UnitTest which is not a\u001b[0m\u001b[1;33m\u001b[0m\u001b[1;33m\u001b[0m\u001b[1;33m\u001b[0m\u001b[0m\n",
      "\u001b[1;31mAttributeError\u001b[0m: module 'numpy' has no attribute 'bool'.\n`np.bool` was a deprecated alias for the builtin `bool`. To avoid this error in existing code, use `bool` by itself. Doing this will not modify any behavior and is safe. If you specifically wanted the numpy scalar type, use `np.bool_` here.\nThe aliases was originally deprecated in NumPy 1.20; for more details and guidance see the original release note at:\n    https://numpy.org/devdocs/release/1.20.0-notes.html#deprecations"
     ]
    }
   ],
   "source": [
    "import time\n",
    "import pandas as pd\n",
    "import matplotlib.pyplot as plt\n",
    "%matplotlib inline\n",
    "import seaborn as sns\n",
    "import numpy as np\n",
    "from numpy import mean\n",
    "from sklearn.model_selection import train_test_split , cross_val_score\n",
    "from sklearn.preprocessing import MinMaxScaler\n",
    "from sklearn.metrics import classification_report\n",
    "from sklearn.metrics import confusion_matrix\n",
    "from sklearn.metrics import accuracy_score\n",
    "from sklearn.metrics import f1_score\n",
    "from sklearn.naive_bayes import GaussianNB\n",
    "from sklearn.naive_bayes import MultinomialNB\n",
    "from sklearn.neighbors import KNeighborsClassifier\n",
    "from sklearn.ensemble import RandomForestClassifier\n",
    "from sklearn.model_selection import cross_validate\n",
    "from sklearn.svm import SVC\n",
    "from sklearn import metrics\n",
    "from sklearn.linear_model import LogisticRegression\n",
    "from sklearn.datasets import make_classification\n",
    "from sklearn.model_selection import RepeatedStratifiedKFold\n",
    "from sklearn.linear_model import Perceptron\n",
    "from sklearn.model_selection import GridSearchCV\n",
    "import warnings\n",
    "warnings.filterwarnings(\"ignore\")"
   ]
  },
  {
   "cell_type": "markdown",
   "id": "63f21116",
   "metadata": {},
   "source": [
    "<center><strong><h1 style=\"color:navy\">Reading Dataset</h1></strong></center>"
   ]
  },
  {
   "cell_type": "code",
   "execution_count": 2,
   "id": "811ab8d7",
   "metadata": {},
   "outputs": [
    {
     "data": {
      "text/html": [
       "<div>\n",
       "<style scoped>\n",
       "    .dataframe tbody tr th:only-of-type {\n",
       "        vertical-align: middle;\n",
       "    }\n",
       "\n",
       "    .dataframe tbody tr th {\n",
       "        vertical-align: top;\n",
       "    }\n",
       "\n",
       "    .dataframe thead th {\n",
       "        text-align: right;\n",
       "    }\n",
       "</style>\n",
       "<table border=\"1\" class=\"dataframe\">\n",
       "  <thead>\n",
       "    <tr style=\"text-align: right;\">\n",
       "      <th></th>\n",
       "      <th>PassengerId</th>\n",
       "      <th>HomePlanet</th>\n",
       "      <th>CryoSleep</th>\n",
       "      <th>Cabin</th>\n",
       "      <th>Destination</th>\n",
       "      <th>Age</th>\n",
       "      <th>VIP</th>\n",
       "      <th>RoomService</th>\n",
       "      <th>FoodCourt</th>\n",
       "      <th>ShoppingMall</th>\n",
       "      <th>Spa</th>\n",
       "      <th>VRDeck</th>\n",
       "      <th>Name</th>\n",
       "      <th>Transported</th>\n",
       "    </tr>\n",
       "  </thead>\n",
       "  <tbody>\n",
       "    <tr>\n",
       "      <th>0</th>\n",
       "      <td>0001_01</td>\n",
       "      <td>Europa</td>\n",
       "      <td>False</td>\n",
       "      <td>B/0/P</td>\n",
       "      <td>TRAPPIST-1e</td>\n",
       "      <td>39.0</td>\n",
       "      <td>False</td>\n",
       "      <td>0.0</td>\n",
       "      <td>0.0</td>\n",
       "      <td>0.0</td>\n",
       "      <td>0.0</td>\n",
       "      <td>0.0</td>\n",
       "      <td>Maham Ofracculy</td>\n",
       "      <td>False</td>\n",
       "    </tr>\n",
       "    <tr>\n",
       "      <th>1</th>\n",
       "      <td>0002_01</td>\n",
       "      <td>Earth</td>\n",
       "      <td>False</td>\n",
       "      <td>F/0/S</td>\n",
       "      <td>TRAPPIST-1e</td>\n",
       "      <td>24.0</td>\n",
       "      <td>False</td>\n",
       "      <td>109.0</td>\n",
       "      <td>9.0</td>\n",
       "      <td>25.0</td>\n",
       "      <td>549.0</td>\n",
       "      <td>44.0</td>\n",
       "      <td>Juanna Vines</td>\n",
       "      <td>True</td>\n",
       "    </tr>\n",
       "    <tr>\n",
       "      <th>2</th>\n",
       "      <td>0003_01</td>\n",
       "      <td>Europa</td>\n",
       "      <td>False</td>\n",
       "      <td>A/0/S</td>\n",
       "      <td>TRAPPIST-1e</td>\n",
       "      <td>58.0</td>\n",
       "      <td>True</td>\n",
       "      <td>43.0</td>\n",
       "      <td>3576.0</td>\n",
       "      <td>0.0</td>\n",
       "      <td>6715.0</td>\n",
       "      <td>49.0</td>\n",
       "      <td>Altark Susent</td>\n",
       "      <td>False</td>\n",
       "    </tr>\n",
       "    <tr>\n",
       "      <th>3</th>\n",
       "      <td>0003_02</td>\n",
       "      <td>Europa</td>\n",
       "      <td>False</td>\n",
       "      <td>A/0/S</td>\n",
       "      <td>TRAPPIST-1e</td>\n",
       "      <td>33.0</td>\n",
       "      <td>False</td>\n",
       "      <td>0.0</td>\n",
       "      <td>1283.0</td>\n",
       "      <td>371.0</td>\n",
       "      <td>3329.0</td>\n",
       "      <td>193.0</td>\n",
       "      <td>Solam Susent</td>\n",
       "      <td>False</td>\n",
       "    </tr>\n",
       "    <tr>\n",
       "      <th>4</th>\n",
       "      <td>0004_01</td>\n",
       "      <td>Earth</td>\n",
       "      <td>False</td>\n",
       "      <td>F/1/S</td>\n",
       "      <td>TRAPPIST-1e</td>\n",
       "      <td>16.0</td>\n",
       "      <td>False</td>\n",
       "      <td>303.0</td>\n",
       "      <td>70.0</td>\n",
       "      <td>151.0</td>\n",
       "      <td>565.0</td>\n",
       "      <td>2.0</td>\n",
       "      <td>Willy Santantines</td>\n",
       "      <td>True</td>\n",
       "    </tr>\n",
       "    <tr>\n",
       "      <th>5</th>\n",
       "      <td>0005_01</td>\n",
       "      <td>Earth</td>\n",
       "      <td>False</td>\n",
       "      <td>F/0/P</td>\n",
       "      <td>PSO J318.5-22</td>\n",
       "      <td>44.0</td>\n",
       "      <td>False</td>\n",
       "      <td>0.0</td>\n",
       "      <td>483.0</td>\n",
       "      <td>0.0</td>\n",
       "      <td>291.0</td>\n",
       "      <td>0.0</td>\n",
       "      <td>Sandie Hinetthews</td>\n",
       "      <td>True</td>\n",
       "    </tr>\n",
       "    <tr>\n",
       "      <th>6</th>\n",
       "      <td>0006_01</td>\n",
       "      <td>Earth</td>\n",
       "      <td>False</td>\n",
       "      <td>F/2/S</td>\n",
       "      <td>TRAPPIST-1e</td>\n",
       "      <td>26.0</td>\n",
       "      <td>False</td>\n",
       "      <td>42.0</td>\n",
       "      <td>1539.0</td>\n",
       "      <td>3.0</td>\n",
       "      <td>0.0</td>\n",
       "      <td>0.0</td>\n",
       "      <td>Billex Jacostaffey</td>\n",
       "      <td>True</td>\n",
       "    </tr>\n",
       "    <tr>\n",
       "      <th>7</th>\n",
       "      <td>0006_02</td>\n",
       "      <td>Earth</td>\n",
       "      <td>True</td>\n",
       "      <td>G/0/S</td>\n",
       "      <td>TRAPPIST-1e</td>\n",
       "      <td>28.0</td>\n",
       "      <td>False</td>\n",
       "      <td>0.0</td>\n",
       "      <td>0.0</td>\n",
       "      <td>0.0</td>\n",
       "      <td>0.0</td>\n",
       "      <td>NaN</td>\n",
       "      <td>Candra Jacostaffey</td>\n",
       "      <td>True</td>\n",
       "    </tr>\n",
       "    <tr>\n",
       "      <th>8</th>\n",
       "      <td>0007_01</td>\n",
       "      <td>Earth</td>\n",
       "      <td>False</td>\n",
       "      <td>F/3/S</td>\n",
       "      <td>TRAPPIST-1e</td>\n",
       "      <td>35.0</td>\n",
       "      <td>False</td>\n",
       "      <td>0.0</td>\n",
       "      <td>785.0</td>\n",
       "      <td>17.0</td>\n",
       "      <td>216.0</td>\n",
       "      <td>0.0</td>\n",
       "      <td>Andona Beston</td>\n",
       "      <td>True</td>\n",
       "    </tr>\n",
       "    <tr>\n",
       "      <th>9</th>\n",
       "      <td>0008_01</td>\n",
       "      <td>Europa</td>\n",
       "      <td>True</td>\n",
       "      <td>B/1/P</td>\n",
       "      <td>55 Cancri e</td>\n",
       "      <td>14.0</td>\n",
       "      <td>False</td>\n",
       "      <td>0.0</td>\n",
       "      <td>0.0</td>\n",
       "      <td>0.0</td>\n",
       "      <td>0.0</td>\n",
       "      <td>0.0</td>\n",
       "      <td>Erraiam Flatic</td>\n",
       "      <td>True</td>\n",
       "    </tr>\n",
       "    <tr>\n",
       "      <th>10</th>\n",
       "      <td>0008_02</td>\n",
       "      <td>Europa</td>\n",
       "      <td>True</td>\n",
       "      <td>B/1/P</td>\n",
       "      <td>TRAPPIST-1e</td>\n",
       "      <td>34.0</td>\n",
       "      <td>False</td>\n",
       "      <td>0.0</td>\n",
       "      <td>0.0</td>\n",
       "      <td>NaN</td>\n",
       "      <td>0.0</td>\n",
       "      <td>0.0</td>\n",
       "      <td>Altardr Flatic</td>\n",
       "      <td>True</td>\n",
       "    </tr>\n",
       "    <tr>\n",
       "      <th>11</th>\n",
       "      <td>0008_03</td>\n",
       "      <td>Europa</td>\n",
       "      <td>False</td>\n",
       "      <td>B/1/P</td>\n",
       "      <td>55 Cancri e</td>\n",
       "      <td>45.0</td>\n",
       "      <td>False</td>\n",
       "      <td>39.0</td>\n",
       "      <td>7295.0</td>\n",
       "      <td>589.0</td>\n",
       "      <td>110.0</td>\n",
       "      <td>124.0</td>\n",
       "      <td>Wezena Flatic</td>\n",
       "      <td>True</td>\n",
       "    </tr>\n",
       "    <tr>\n",
       "      <th>12</th>\n",
       "      <td>0009_01</td>\n",
       "      <td>Mars</td>\n",
       "      <td>False</td>\n",
       "      <td>F/1/P</td>\n",
       "      <td>TRAPPIST-1e</td>\n",
       "      <td>32.0</td>\n",
       "      <td>False</td>\n",
       "      <td>73.0</td>\n",
       "      <td>0.0</td>\n",
       "      <td>1123.0</td>\n",
       "      <td>0.0</td>\n",
       "      <td>113.0</td>\n",
       "      <td>Berers Barne</td>\n",
       "      <td>True</td>\n",
       "    </tr>\n",
       "    <tr>\n",
       "      <th>13</th>\n",
       "      <td>0010_01</td>\n",
       "      <td>Earth</td>\n",
       "      <td>False</td>\n",
       "      <td>G/1/S</td>\n",
       "      <td>TRAPPIST-1e</td>\n",
       "      <td>48.0</td>\n",
       "      <td>False</td>\n",
       "      <td>719.0</td>\n",
       "      <td>1.0</td>\n",
       "      <td>65.0</td>\n",
       "      <td>0.0</td>\n",
       "      <td>24.0</td>\n",
       "      <td>Reney Baketton</td>\n",
       "      <td>False</td>\n",
       "    </tr>\n",
       "    <tr>\n",
       "      <th>14</th>\n",
       "      <td>0011_01</td>\n",
       "      <td>Earth</td>\n",
       "      <td>False</td>\n",
       "      <td>F/2/P</td>\n",
       "      <td>TRAPPIST-1e</td>\n",
       "      <td>28.0</td>\n",
       "      <td>False</td>\n",
       "      <td>8.0</td>\n",
       "      <td>974.0</td>\n",
       "      <td>12.0</td>\n",
       "      <td>2.0</td>\n",
       "      <td>7.0</td>\n",
       "      <td>Elle Bertsontry</td>\n",
       "      <td>True</td>\n",
       "    </tr>\n",
       "    <tr>\n",
       "      <th>15</th>\n",
       "      <td>0012_01</td>\n",
       "      <td>Earth</td>\n",
       "      <td>False</td>\n",
       "      <td>NaN</td>\n",
       "      <td>TRAPPIST-1e</td>\n",
       "      <td>31.0</td>\n",
       "      <td>False</td>\n",
       "      <td>32.0</td>\n",
       "      <td>0.0</td>\n",
       "      <td>876.0</td>\n",
       "      <td>0.0</td>\n",
       "      <td>0.0</td>\n",
       "      <td>Justie Pooles</td>\n",
       "      <td>False</td>\n",
       "    </tr>\n",
       "    <tr>\n",
       "      <th>16</th>\n",
       "      <td>0014_01</td>\n",
       "      <td>Mars</td>\n",
       "      <td>False</td>\n",
       "      <td>F/3/P</td>\n",
       "      <td>55 Cancri e</td>\n",
       "      <td>27.0</td>\n",
       "      <td>False</td>\n",
       "      <td>1286.0</td>\n",
       "      <td>122.0</td>\n",
       "      <td>NaN</td>\n",
       "      <td>0.0</td>\n",
       "      <td>0.0</td>\n",
       "      <td>Flats Eccle</td>\n",
       "      <td>False</td>\n",
       "    </tr>\n",
       "    <tr>\n",
       "      <th>17</th>\n",
       "      <td>0015_01</td>\n",
       "      <td>Earth</td>\n",
       "      <td>False</td>\n",
       "      <td>F/4/P</td>\n",
       "      <td>55 Cancri e</td>\n",
       "      <td>24.0</td>\n",
       "      <td>False</td>\n",
       "      <td>0.0</td>\n",
       "      <td>1.0</td>\n",
       "      <td>0.0</td>\n",
       "      <td>0.0</td>\n",
       "      <td>637.0</td>\n",
       "      <td>Carry Hughriend</td>\n",
       "      <td>False</td>\n",
       "    </tr>\n",
       "    <tr>\n",
       "      <th>18</th>\n",
       "      <td>0016_01</td>\n",
       "      <td>Mars</td>\n",
       "      <td>True</td>\n",
       "      <td>F/5/P</td>\n",
       "      <td>TRAPPIST-1e</td>\n",
       "      <td>45.0</td>\n",
       "      <td>False</td>\n",
       "      <td>0.0</td>\n",
       "      <td>0.0</td>\n",
       "      <td>0.0</td>\n",
       "      <td>0.0</td>\n",
       "      <td>0.0</td>\n",
       "      <td>Alus Upead</td>\n",
       "      <td>True</td>\n",
       "    </tr>\n",
       "    <tr>\n",
       "      <th>19</th>\n",
       "      <td>0017_01</td>\n",
       "      <td>Earth</td>\n",
       "      <td>False</td>\n",
       "      <td>G/0/P</td>\n",
       "      <td>TRAPPIST-1e</td>\n",
       "      <td>0.0</td>\n",
       "      <td>False</td>\n",
       "      <td>0.0</td>\n",
       "      <td>0.0</td>\n",
       "      <td>0.0</td>\n",
       "      <td>0.0</td>\n",
       "      <td>0.0</td>\n",
       "      <td>Lyde Brighttt</td>\n",
       "      <td>True</td>\n",
       "    </tr>\n",
       "  </tbody>\n",
       "</table>\n",
       "</div>"
      ],
      "text/plain": [
       "   PassengerId HomePlanet CryoSleep  Cabin    Destination   Age    VIP  \\\n",
       "0      0001_01     Europa     False  B/0/P    TRAPPIST-1e  39.0  False   \n",
       "1      0002_01      Earth     False  F/0/S    TRAPPIST-1e  24.0  False   \n",
       "2      0003_01     Europa     False  A/0/S    TRAPPIST-1e  58.0   True   \n",
       "3      0003_02     Europa     False  A/0/S    TRAPPIST-1e  33.0  False   \n",
       "4      0004_01      Earth     False  F/1/S    TRAPPIST-1e  16.0  False   \n",
       "5      0005_01      Earth     False  F/0/P  PSO J318.5-22  44.0  False   \n",
       "6      0006_01      Earth     False  F/2/S    TRAPPIST-1e  26.0  False   \n",
       "7      0006_02      Earth      True  G/0/S    TRAPPIST-1e  28.0  False   \n",
       "8      0007_01      Earth     False  F/3/S    TRAPPIST-1e  35.0  False   \n",
       "9      0008_01     Europa      True  B/1/P    55 Cancri e  14.0  False   \n",
       "10     0008_02     Europa      True  B/1/P    TRAPPIST-1e  34.0  False   \n",
       "11     0008_03     Europa     False  B/1/P    55 Cancri e  45.0  False   \n",
       "12     0009_01       Mars     False  F/1/P    TRAPPIST-1e  32.0  False   \n",
       "13     0010_01      Earth     False  G/1/S    TRAPPIST-1e  48.0  False   \n",
       "14     0011_01      Earth     False  F/2/P    TRAPPIST-1e  28.0  False   \n",
       "15     0012_01      Earth     False    NaN    TRAPPIST-1e  31.0  False   \n",
       "16     0014_01       Mars     False  F/3/P    55 Cancri e  27.0  False   \n",
       "17     0015_01      Earth     False  F/4/P    55 Cancri e  24.0  False   \n",
       "18     0016_01       Mars      True  F/5/P    TRAPPIST-1e  45.0  False   \n",
       "19     0017_01      Earth     False  G/0/P    TRAPPIST-1e   0.0  False   \n",
       "\n",
       "    RoomService  FoodCourt  ShoppingMall     Spa  VRDeck                Name  \\\n",
       "0           0.0        0.0           0.0     0.0     0.0     Maham Ofracculy   \n",
       "1         109.0        9.0          25.0   549.0    44.0        Juanna Vines   \n",
       "2          43.0     3576.0           0.0  6715.0    49.0       Altark Susent   \n",
       "3           0.0     1283.0         371.0  3329.0   193.0        Solam Susent   \n",
       "4         303.0       70.0         151.0   565.0     2.0   Willy Santantines   \n",
       "5           0.0      483.0           0.0   291.0     0.0   Sandie Hinetthews   \n",
       "6          42.0     1539.0           3.0     0.0     0.0  Billex Jacostaffey   \n",
       "7           0.0        0.0           0.0     0.0     NaN  Candra Jacostaffey   \n",
       "8           0.0      785.0          17.0   216.0     0.0       Andona Beston   \n",
       "9           0.0        0.0           0.0     0.0     0.0      Erraiam Flatic   \n",
       "10          0.0        0.0           NaN     0.0     0.0      Altardr Flatic   \n",
       "11         39.0     7295.0         589.0   110.0   124.0       Wezena Flatic   \n",
       "12         73.0        0.0        1123.0     0.0   113.0        Berers Barne   \n",
       "13        719.0        1.0          65.0     0.0    24.0      Reney Baketton   \n",
       "14          8.0      974.0          12.0     2.0     7.0     Elle Bertsontry   \n",
       "15         32.0        0.0         876.0     0.0     0.0       Justie Pooles   \n",
       "16       1286.0      122.0           NaN     0.0     0.0         Flats Eccle   \n",
       "17          0.0        1.0           0.0     0.0   637.0     Carry Hughriend   \n",
       "18          0.0        0.0           0.0     0.0     0.0          Alus Upead   \n",
       "19          0.0        0.0           0.0     0.0     0.0       Lyde Brighttt   \n",
       "\n",
       "    Transported  \n",
       "0         False  \n",
       "1          True  \n",
       "2         False  \n",
       "3         False  \n",
       "4          True  \n",
       "5          True  \n",
       "6          True  \n",
       "7          True  \n",
       "8          True  \n",
       "9          True  \n",
       "10         True  \n",
       "11         True  \n",
       "12         True  \n",
       "13        False  \n",
       "14         True  \n",
       "15        False  \n",
       "16        False  \n",
       "17        False  \n",
       "18         True  \n",
       "19         True  "
      ]
     },
     "execution_count": 2,
     "metadata": {},
     "output_type": "execute_result"
    }
   ],
   "source": [
    "dataset = pd.read_csv(\"D://FILMS//spaceship-titanic//train.csv\")\n",
    "dataset.head(20)"
   ]
  },
  {
   "cell_type": "markdown",
   "id": "d955c6aa",
   "metadata": {},
   "source": [
    "# ------------------------------------------------------------------------------------------------------------"
   ]
  },
  {
   "cell_type": "markdown",
   "id": "68ebfcee",
   "metadata": {},
   "source": [
    "<a id='explore'></a>\n",
    "\n",
    "<center><strong><h1 style=\"color:navy\">Exploring the Data</h1></strong></center>"
   ]
  },
  {
   "cell_type": "markdown",
   "id": "25a80c20",
   "metadata": {},
   "source": [
    "### Getting general info about the data"
   ]
  },
  {
   "cell_type": "code",
   "execution_count": 3,
   "id": "dda85fd5",
   "metadata": {},
   "outputs": [
    {
     "name": "stdout",
     "output_type": "stream",
     "text": [
      "<class 'pandas.core.frame.DataFrame'>\n",
      "RangeIndex: 8693 entries, 0 to 8692\n",
      "Data columns (total 14 columns):\n",
      " #   Column        Non-Null Count  Dtype  \n",
      "---  ------        --------------  -----  \n",
      " 0   PassengerId   8693 non-null   object \n",
      " 1   HomePlanet    8492 non-null   object \n",
      " 2   CryoSleep     8476 non-null   object \n",
      " 3   Cabin         8494 non-null   object \n",
      " 4   Destination   8511 non-null   object \n",
      " 5   Age           8514 non-null   float64\n",
      " 6   VIP           8490 non-null   object \n",
      " 7   RoomService   8512 non-null   float64\n",
      " 8   FoodCourt     8510 non-null   float64\n",
      " 9   ShoppingMall  8485 non-null   float64\n",
      " 10  Spa           8510 non-null   float64\n",
      " 11  VRDeck        8505 non-null   float64\n",
      " 12  Name          8493 non-null   object \n",
      " 13  Transported   8693 non-null   bool   \n",
      "dtypes: bool(1), float64(6), object(7)\n",
      "memory usage: 891.5+ KB\n"
     ]
    }
   ],
   "source": [
    "dataset.info()"
   ]
  },
  {
   "cell_type": "markdown",
   "id": "c2e65186",
   "metadata": {},
   "source": [
    "# ------------------------------------------------------------------------------------------------------------"
   ]
  },
  {
   "cell_type": "markdown",
   "id": "ec15ebc8",
   "metadata": {},
   "source": [
    "## Check to see if there are any null values."
   ]
  },
  {
   "cell_type": "code",
   "execution_count": 4,
   "id": "828667e4",
   "metadata": {},
   "outputs": [
    {
     "data": {
      "text/plain": [
       "PassengerId       0\n",
       "HomePlanet      201\n",
       "CryoSleep       217\n",
       "Cabin           199\n",
       "Destination     182\n",
       "Age             179\n",
       "VIP             203\n",
       "RoomService     181\n",
       "FoodCourt       183\n",
       "ShoppingMall    208\n",
       "Spa             183\n",
       "VRDeck          188\n",
       "Name            200\n",
       "Transported       0\n",
       "dtype: int64"
      ]
     },
     "execution_count": 4,
     "metadata": {},
     "output_type": "execute_result"
    }
   ],
   "source": [
    "dataset.isnull().sum()"
   ]
  },
  {
   "cell_type": "markdown",
   "id": "90ff33bd",
   "metadata": {},
   "source": [
    "### As we can see, the majority of the features have a significant number of null values."
   ]
  },
  {
   "cell_type": "markdown",
   "id": "d934f387",
   "metadata": {},
   "source": [
    "# -----------------------------------------------------------------------------------------------"
   ]
  },
  {
   "cell_type": "markdown",
   "id": "3cff5d22",
   "metadata": {},
   "source": [
    "# Description for the numerical data"
   ]
  },
  {
   "cell_type": "code",
   "execution_count": 5,
   "id": "7b5681ff",
   "metadata": {
    "scrolled": false
   },
   "outputs": [
    {
     "data": {
      "text/html": [
       "<div>\n",
       "<style scoped>\n",
       "    .dataframe tbody tr th:only-of-type {\n",
       "        vertical-align: middle;\n",
       "    }\n",
       "\n",
       "    .dataframe tbody tr th {\n",
       "        vertical-align: top;\n",
       "    }\n",
       "\n",
       "    .dataframe thead th {\n",
       "        text-align: right;\n",
       "    }\n",
       "</style>\n",
       "<table border=\"1\" class=\"dataframe\">\n",
       "  <thead>\n",
       "    <tr style=\"text-align: right;\">\n",
       "      <th></th>\n",
       "      <th>Age</th>\n",
       "      <th>RoomService</th>\n",
       "      <th>FoodCourt</th>\n",
       "      <th>ShoppingMall</th>\n",
       "      <th>Spa</th>\n",
       "      <th>VRDeck</th>\n",
       "    </tr>\n",
       "  </thead>\n",
       "  <tbody>\n",
       "    <tr>\n",
       "      <th>count</th>\n",
       "      <td>8514.000000</td>\n",
       "      <td>8512.000000</td>\n",
       "      <td>8510.000000</td>\n",
       "      <td>8485.000000</td>\n",
       "      <td>8510.000000</td>\n",
       "      <td>8505.000000</td>\n",
       "    </tr>\n",
       "    <tr>\n",
       "      <th>mean</th>\n",
       "      <td>28.827930</td>\n",
       "      <td>224.687617</td>\n",
       "      <td>458.077203</td>\n",
       "      <td>173.729169</td>\n",
       "      <td>311.138778</td>\n",
       "      <td>304.854791</td>\n",
       "    </tr>\n",
       "    <tr>\n",
       "      <th>std</th>\n",
       "      <td>14.489021</td>\n",
       "      <td>666.717663</td>\n",
       "      <td>1611.489240</td>\n",
       "      <td>604.696458</td>\n",
       "      <td>1136.705535</td>\n",
       "      <td>1145.717189</td>\n",
       "    </tr>\n",
       "    <tr>\n",
       "      <th>min</th>\n",
       "      <td>0.000000</td>\n",
       "      <td>0.000000</td>\n",
       "      <td>0.000000</td>\n",
       "      <td>0.000000</td>\n",
       "      <td>0.000000</td>\n",
       "      <td>0.000000</td>\n",
       "    </tr>\n",
       "    <tr>\n",
       "      <th>25%</th>\n",
       "      <td>19.000000</td>\n",
       "      <td>0.000000</td>\n",
       "      <td>0.000000</td>\n",
       "      <td>0.000000</td>\n",
       "      <td>0.000000</td>\n",
       "      <td>0.000000</td>\n",
       "    </tr>\n",
       "    <tr>\n",
       "      <th>50%</th>\n",
       "      <td>27.000000</td>\n",
       "      <td>0.000000</td>\n",
       "      <td>0.000000</td>\n",
       "      <td>0.000000</td>\n",
       "      <td>0.000000</td>\n",
       "      <td>0.000000</td>\n",
       "    </tr>\n",
       "    <tr>\n",
       "      <th>75%</th>\n",
       "      <td>38.000000</td>\n",
       "      <td>47.000000</td>\n",
       "      <td>76.000000</td>\n",
       "      <td>27.000000</td>\n",
       "      <td>59.000000</td>\n",
       "      <td>46.000000</td>\n",
       "    </tr>\n",
       "    <tr>\n",
       "      <th>max</th>\n",
       "      <td>79.000000</td>\n",
       "      <td>14327.000000</td>\n",
       "      <td>29813.000000</td>\n",
       "      <td>23492.000000</td>\n",
       "      <td>22408.000000</td>\n",
       "      <td>24133.000000</td>\n",
       "    </tr>\n",
       "  </tbody>\n",
       "</table>\n",
       "</div>"
      ],
      "text/plain": [
       "               Age   RoomService     FoodCourt  ShoppingMall           Spa  \\\n",
       "count  8514.000000   8512.000000   8510.000000   8485.000000   8510.000000   \n",
       "mean     28.827930    224.687617    458.077203    173.729169    311.138778   \n",
       "std      14.489021    666.717663   1611.489240    604.696458   1136.705535   \n",
       "min       0.000000      0.000000      0.000000      0.000000      0.000000   \n",
       "25%      19.000000      0.000000      0.000000      0.000000      0.000000   \n",
       "50%      27.000000      0.000000      0.000000      0.000000      0.000000   \n",
       "75%      38.000000     47.000000     76.000000     27.000000     59.000000   \n",
       "max      79.000000  14327.000000  29813.000000  23492.000000  22408.000000   \n",
       "\n",
       "             VRDeck  \n",
       "count   8505.000000  \n",
       "mean     304.854791  \n",
       "std     1145.717189  \n",
       "min        0.000000  \n",
       "25%        0.000000  \n",
       "50%        0.000000  \n",
       "75%       46.000000  \n",
       "max    24133.000000  "
      ]
     },
     "execution_count": 5,
     "metadata": {},
     "output_type": "execute_result"
    }
   ],
   "source": [
    "dataset.describe()"
   ]
  },
  {
   "cell_type": "markdown",
   "id": "32992acb",
   "metadata": {},
   "source": [
    "# ------------------------------------------------------------------------------------------------------------"
   ]
  },
  {
   "cell_type": "markdown",
   "id": "4fd82582",
   "metadata": {},
   "source": [
    "<a id='preprocess'></a>\n",
    "\n",
    "<center><strong><h1 style=\"color:navy\">Pre-Processing</h1></strong></center>"
   ]
  },
  {
   "cell_type": "markdown",
   "id": "7368e3e0",
   "metadata": {},
   "source": [
    "### Droping unnecessary features"
   ]
  },
  {
   "cell_type": "code",
   "execution_count": 6,
   "id": "658399ff",
   "metadata": {
    "scrolled": true
   },
   "outputs": [],
   "source": [
    "dataset = dataset.drop(columns=['Name'])\n",
    "\n",
    "# I will drop PassengerId feature for now\n",
    "dataset = dataset.drop(columns=['PassengerId'])"
   ]
  },
  {
   "cell_type": "code",
   "execution_count": 7,
   "id": "cf7c3c17",
   "metadata": {
    "scrolled": false
   },
   "outputs": [
    {
     "data": {
      "text/html": [
       "<div>\n",
       "<style scoped>\n",
       "    .dataframe tbody tr th:only-of-type {\n",
       "        vertical-align: middle;\n",
       "    }\n",
       "\n",
       "    .dataframe tbody tr th {\n",
       "        vertical-align: top;\n",
       "    }\n",
       "\n",
       "    .dataframe thead th {\n",
       "        text-align: right;\n",
       "    }\n",
       "</style>\n",
       "<table border=\"1\" class=\"dataframe\">\n",
       "  <thead>\n",
       "    <tr style=\"text-align: right;\">\n",
       "      <th></th>\n",
       "      <th>HomePlanet</th>\n",
       "      <th>CryoSleep</th>\n",
       "      <th>Cabin</th>\n",
       "      <th>Destination</th>\n",
       "      <th>Age</th>\n",
       "      <th>VIP</th>\n",
       "      <th>RoomService</th>\n",
       "      <th>FoodCourt</th>\n",
       "      <th>ShoppingMall</th>\n",
       "      <th>Spa</th>\n",
       "      <th>VRDeck</th>\n",
       "      <th>Transported</th>\n",
       "    </tr>\n",
       "  </thead>\n",
       "  <tbody>\n",
       "    <tr>\n",
       "      <th>0</th>\n",
       "      <td>Europa</td>\n",
       "      <td>False</td>\n",
       "      <td>B/0/P</td>\n",
       "      <td>TRAPPIST-1e</td>\n",
       "      <td>39.0</td>\n",
       "      <td>False</td>\n",
       "      <td>0.0</td>\n",
       "      <td>0.0</td>\n",
       "      <td>0.0</td>\n",
       "      <td>0.0</td>\n",
       "      <td>0.0</td>\n",
       "      <td>False</td>\n",
       "    </tr>\n",
       "    <tr>\n",
       "      <th>1</th>\n",
       "      <td>Earth</td>\n",
       "      <td>False</td>\n",
       "      <td>F/0/S</td>\n",
       "      <td>TRAPPIST-1e</td>\n",
       "      <td>24.0</td>\n",
       "      <td>False</td>\n",
       "      <td>109.0</td>\n",
       "      <td>9.0</td>\n",
       "      <td>25.0</td>\n",
       "      <td>549.0</td>\n",
       "      <td>44.0</td>\n",
       "      <td>True</td>\n",
       "    </tr>\n",
       "    <tr>\n",
       "      <th>2</th>\n",
       "      <td>Europa</td>\n",
       "      <td>False</td>\n",
       "      <td>A/0/S</td>\n",
       "      <td>TRAPPIST-1e</td>\n",
       "      <td>58.0</td>\n",
       "      <td>True</td>\n",
       "      <td>43.0</td>\n",
       "      <td>3576.0</td>\n",
       "      <td>0.0</td>\n",
       "      <td>6715.0</td>\n",
       "      <td>49.0</td>\n",
       "      <td>False</td>\n",
       "    </tr>\n",
       "    <tr>\n",
       "      <th>3</th>\n",
       "      <td>Europa</td>\n",
       "      <td>False</td>\n",
       "      <td>A/0/S</td>\n",
       "      <td>TRAPPIST-1e</td>\n",
       "      <td>33.0</td>\n",
       "      <td>False</td>\n",
       "      <td>0.0</td>\n",
       "      <td>1283.0</td>\n",
       "      <td>371.0</td>\n",
       "      <td>3329.0</td>\n",
       "      <td>193.0</td>\n",
       "      <td>False</td>\n",
       "    </tr>\n",
       "    <tr>\n",
       "      <th>4</th>\n",
       "      <td>Earth</td>\n",
       "      <td>False</td>\n",
       "      <td>F/1/S</td>\n",
       "      <td>TRAPPIST-1e</td>\n",
       "      <td>16.0</td>\n",
       "      <td>False</td>\n",
       "      <td>303.0</td>\n",
       "      <td>70.0</td>\n",
       "      <td>151.0</td>\n",
       "      <td>565.0</td>\n",
       "      <td>2.0</td>\n",
       "      <td>True</td>\n",
       "    </tr>\n",
       "    <tr>\n",
       "      <th>...</th>\n",
       "      <td>...</td>\n",
       "      <td>...</td>\n",
       "      <td>...</td>\n",
       "      <td>...</td>\n",
       "      <td>...</td>\n",
       "      <td>...</td>\n",
       "      <td>...</td>\n",
       "      <td>...</td>\n",
       "      <td>...</td>\n",
       "      <td>...</td>\n",
       "      <td>...</td>\n",
       "      <td>...</td>\n",
       "    </tr>\n",
       "    <tr>\n",
       "      <th>8688</th>\n",
       "      <td>Europa</td>\n",
       "      <td>False</td>\n",
       "      <td>A/98/P</td>\n",
       "      <td>55 Cancri e</td>\n",
       "      <td>41.0</td>\n",
       "      <td>True</td>\n",
       "      <td>0.0</td>\n",
       "      <td>6819.0</td>\n",
       "      <td>0.0</td>\n",
       "      <td>1643.0</td>\n",
       "      <td>74.0</td>\n",
       "      <td>False</td>\n",
       "    </tr>\n",
       "    <tr>\n",
       "      <th>8689</th>\n",
       "      <td>Earth</td>\n",
       "      <td>True</td>\n",
       "      <td>G/1499/S</td>\n",
       "      <td>PSO J318.5-22</td>\n",
       "      <td>18.0</td>\n",
       "      <td>False</td>\n",
       "      <td>0.0</td>\n",
       "      <td>0.0</td>\n",
       "      <td>0.0</td>\n",
       "      <td>0.0</td>\n",
       "      <td>0.0</td>\n",
       "      <td>False</td>\n",
       "    </tr>\n",
       "    <tr>\n",
       "      <th>8690</th>\n",
       "      <td>Earth</td>\n",
       "      <td>False</td>\n",
       "      <td>G/1500/S</td>\n",
       "      <td>TRAPPIST-1e</td>\n",
       "      <td>26.0</td>\n",
       "      <td>False</td>\n",
       "      <td>0.0</td>\n",
       "      <td>0.0</td>\n",
       "      <td>1872.0</td>\n",
       "      <td>1.0</td>\n",
       "      <td>0.0</td>\n",
       "      <td>True</td>\n",
       "    </tr>\n",
       "    <tr>\n",
       "      <th>8691</th>\n",
       "      <td>Europa</td>\n",
       "      <td>False</td>\n",
       "      <td>E/608/S</td>\n",
       "      <td>55 Cancri e</td>\n",
       "      <td>32.0</td>\n",
       "      <td>False</td>\n",
       "      <td>0.0</td>\n",
       "      <td>1049.0</td>\n",
       "      <td>0.0</td>\n",
       "      <td>353.0</td>\n",
       "      <td>3235.0</td>\n",
       "      <td>False</td>\n",
       "    </tr>\n",
       "    <tr>\n",
       "      <th>8692</th>\n",
       "      <td>Europa</td>\n",
       "      <td>False</td>\n",
       "      <td>E/608/S</td>\n",
       "      <td>TRAPPIST-1e</td>\n",
       "      <td>44.0</td>\n",
       "      <td>False</td>\n",
       "      <td>126.0</td>\n",
       "      <td>4688.0</td>\n",
       "      <td>0.0</td>\n",
       "      <td>0.0</td>\n",
       "      <td>12.0</td>\n",
       "      <td>True</td>\n",
       "    </tr>\n",
       "  </tbody>\n",
       "</table>\n",
       "<p>8693 rows × 12 columns</p>\n",
       "</div>"
      ],
      "text/plain": [
       "     HomePlanet CryoSleep     Cabin    Destination   Age    VIP  RoomService  \\\n",
       "0        Europa     False     B/0/P    TRAPPIST-1e  39.0  False          0.0   \n",
       "1         Earth     False     F/0/S    TRAPPIST-1e  24.0  False        109.0   \n",
       "2        Europa     False     A/0/S    TRAPPIST-1e  58.0   True         43.0   \n",
       "3        Europa     False     A/0/S    TRAPPIST-1e  33.0  False          0.0   \n",
       "4         Earth     False     F/1/S    TRAPPIST-1e  16.0  False        303.0   \n",
       "...         ...       ...       ...            ...   ...    ...          ...   \n",
       "8688     Europa     False    A/98/P    55 Cancri e  41.0   True          0.0   \n",
       "8689      Earth      True  G/1499/S  PSO J318.5-22  18.0  False          0.0   \n",
       "8690      Earth     False  G/1500/S    TRAPPIST-1e  26.0  False          0.0   \n",
       "8691     Europa     False   E/608/S    55 Cancri e  32.0  False          0.0   \n",
       "8692     Europa     False   E/608/S    TRAPPIST-1e  44.0  False        126.0   \n",
       "\n",
       "      FoodCourt  ShoppingMall     Spa  VRDeck  Transported  \n",
       "0           0.0           0.0     0.0     0.0        False  \n",
       "1           9.0          25.0   549.0    44.0         True  \n",
       "2        3576.0           0.0  6715.0    49.0        False  \n",
       "3        1283.0         371.0  3329.0   193.0        False  \n",
       "4          70.0         151.0   565.0     2.0         True  \n",
       "...         ...           ...     ...     ...          ...  \n",
       "8688     6819.0           0.0  1643.0    74.0        False  \n",
       "8689        0.0           0.0     0.0     0.0        False  \n",
       "8690        0.0        1872.0     1.0     0.0         True  \n",
       "8691     1049.0           0.0   353.0  3235.0        False  \n",
       "8692     4688.0           0.0     0.0    12.0         True  \n",
       "\n",
       "[8693 rows x 12 columns]"
      ]
     },
     "execution_count": 7,
     "metadata": {},
     "output_type": "execute_result"
    }
   ],
   "source": [
    "dataset"
   ]
  },
  {
   "cell_type": "markdown",
   "id": "32b419a0",
   "metadata": {},
   "source": [
    "# -----------------------------------------------------------------------------------------------------------"
   ]
  },
  {
   "cell_type": "markdown",
   "id": "3eaed51c",
   "metadata": {},
   "source": [
    "### Handling NULL Values (Categorical Features)"
   ]
  },
  {
   "cell_type": "code",
   "execution_count": 8,
   "id": "7d56dc5f",
   "metadata": {},
   "outputs": [],
   "source": [
    "# Handling Destination Feature (fill NULL with mode)\n",
    "dataset['Destination'] = dataset['Destination'].fillna(dataset['Destination'].mode()[0])\n",
    "\n",
    "# Handling Home Palnet (fill NULL with the mode)\n",
    "dataset['HomePlanet'] = dataset['HomePlanet'].fillna(dataset['HomePlanet'].mode()[0])\n",
    "\n",
    "# Handling Cryo Sleep, VIP (fill NULL with mode)\n",
    "dataset['CryoSleep'] = dataset['CryoSleep'].fillna(dataset['CryoSleep'].mode()[0])\n",
    "dataset['VIP'] = dataset['VIP'].fillna(dataset['VIP'].mode()[0])\n",
    "\n",
    "# Handling Cabin\n",
    "dataset['Cabin'] = dataset['Cabin'].fillna(value=\"Missing\")"
   ]
  },
  {
   "cell_type": "markdown",
   "id": "e06e4514",
   "metadata": {},
   "source": [
    "### Handling VIP, Cryo Sleep and Transported(label) => converting them from being of type \"object\" to be of type \n",
    "\n",
    "### \"float\"."
   ]
  },
  {
   "cell_type": "code",
   "execution_count": 9,
   "id": "44a175e2",
   "metadata": {},
   "outputs": [],
   "source": [
    "dataset[\"VIP\"] = dataset[\"VIP\"].astype(int)\n",
    "dataset[\"Transported\"] = dataset[\"Transported\"].astype(int)\n",
    "dataset[\"CryoSleep\"] = dataset[\"CryoSleep\"].astype(int)"
   ]
  },
  {
   "cell_type": "markdown",
   "id": "d0fc8a92",
   "metadata": {},
   "source": [
    "### Handling Cabin Feature"
   ]
  },
  {
   "cell_type": "code",
   "execution_count": 10,
   "id": "12739981",
   "metadata": {},
   "outputs": [
    {
     "data": {
      "text/html": [
       "<div>\n",
       "<style scoped>\n",
       "    .dataframe tbody tr th:only-of-type {\n",
       "        vertical-align: middle;\n",
       "    }\n",
       "\n",
       "    .dataframe tbody tr th {\n",
       "        vertical-align: top;\n",
       "    }\n",
       "\n",
       "    .dataframe thead th {\n",
       "        text-align: right;\n",
       "    }\n",
       "</style>\n",
       "<table border=\"1\" class=\"dataframe\">\n",
       "  <thead>\n",
       "    <tr style=\"text-align: right;\">\n",
       "      <th></th>\n",
       "      <th>HomePlanet</th>\n",
       "      <th>CryoSleep</th>\n",
       "      <th>Destination</th>\n",
       "      <th>Age</th>\n",
       "      <th>VIP</th>\n",
       "      <th>RoomService</th>\n",
       "      <th>FoodCourt</th>\n",
       "      <th>ShoppingMall</th>\n",
       "      <th>Spa</th>\n",
       "      <th>VRDeck</th>\n",
       "      <th>Transported</th>\n",
       "      <th>Deck</th>\n",
       "      <th>Side</th>\n",
       "    </tr>\n",
       "  </thead>\n",
       "  <tbody>\n",
       "    <tr>\n",
       "      <th>0</th>\n",
       "      <td>Europa</td>\n",
       "      <td>0</td>\n",
       "      <td>TRAPPIST-1e</td>\n",
       "      <td>39.0</td>\n",
       "      <td>0</td>\n",
       "      <td>0.0</td>\n",
       "      <td>0.0</td>\n",
       "      <td>0.0</td>\n",
       "      <td>0.0</td>\n",
       "      <td>0.0</td>\n",
       "      <td>0</td>\n",
       "      <td>B</td>\n",
       "      <td>P</td>\n",
       "    </tr>\n",
       "    <tr>\n",
       "      <th>1</th>\n",
       "      <td>Earth</td>\n",
       "      <td>0</td>\n",
       "      <td>TRAPPIST-1e</td>\n",
       "      <td>24.0</td>\n",
       "      <td>0</td>\n",
       "      <td>109.0</td>\n",
       "      <td>9.0</td>\n",
       "      <td>25.0</td>\n",
       "      <td>549.0</td>\n",
       "      <td>44.0</td>\n",
       "      <td>1</td>\n",
       "      <td>F</td>\n",
       "      <td>S</td>\n",
       "    </tr>\n",
       "    <tr>\n",
       "      <th>2</th>\n",
       "      <td>Europa</td>\n",
       "      <td>0</td>\n",
       "      <td>TRAPPIST-1e</td>\n",
       "      <td>58.0</td>\n",
       "      <td>1</td>\n",
       "      <td>43.0</td>\n",
       "      <td>3576.0</td>\n",
       "      <td>0.0</td>\n",
       "      <td>6715.0</td>\n",
       "      <td>49.0</td>\n",
       "      <td>0</td>\n",
       "      <td>A</td>\n",
       "      <td>S</td>\n",
       "    </tr>\n",
       "    <tr>\n",
       "      <th>3</th>\n",
       "      <td>Europa</td>\n",
       "      <td>0</td>\n",
       "      <td>TRAPPIST-1e</td>\n",
       "      <td>33.0</td>\n",
       "      <td>0</td>\n",
       "      <td>0.0</td>\n",
       "      <td>1283.0</td>\n",
       "      <td>371.0</td>\n",
       "      <td>3329.0</td>\n",
       "      <td>193.0</td>\n",
       "      <td>0</td>\n",
       "      <td>A</td>\n",
       "      <td>S</td>\n",
       "    </tr>\n",
       "    <tr>\n",
       "      <th>4</th>\n",
       "      <td>Earth</td>\n",
       "      <td>0</td>\n",
       "      <td>TRAPPIST-1e</td>\n",
       "      <td>16.0</td>\n",
       "      <td>0</td>\n",
       "      <td>303.0</td>\n",
       "      <td>70.0</td>\n",
       "      <td>151.0</td>\n",
       "      <td>565.0</td>\n",
       "      <td>2.0</td>\n",
       "      <td>1</td>\n",
       "      <td>F</td>\n",
       "      <td>S</td>\n",
       "    </tr>\n",
       "  </tbody>\n",
       "</table>\n",
       "</div>"
      ],
      "text/plain": [
       "  HomePlanet  CryoSleep  Destination   Age  VIP  RoomService  FoodCourt  \\\n",
       "0     Europa          0  TRAPPIST-1e  39.0    0          0.0        0.0   \n",
       "1      Earth          0  TRAPPIST-1e  24.0    0        109.0        9.0   \n",
       "2     Europa          0  TRAPPIST-1e  58.0    1         43.0     3576.0   \n",
       "3     Europa          0  TRAPPIST-1e  33.0    0          0.0     1283.0   \n",
       "4      Earth          0  TRAPPIST-1e  16.0    0        303.0       70.0   \n",
       "\n",
       "   ShoppingMall     Spa  VRDeck  Transported Deck Side  \n",
       "0           0.0     0.0     0.0            0    B    P  \n",
       "1          25.0   549.0    44.0            1    F    S  \n",
       "2           0.0  6715.0    49.0            0    A    S  \n",
       "3         371.0  3329.0   193.0            0    A    S  \n",
       "4         151.0   565.0     2.0            1    F    S  "
      ]
     },
     "execution_count": 10,
     "metadata": {},
     "output_type": "execute_result"
    }
   ],
   "source": [
    "#New Deck and Side feature\n",
    "dataset['Deck'] = \"\"\n",
    "dataset['Side'] = \"\"\n",
    "for rowNum in range(dataset.shape[0]):\n",
    "    if dataset['Cabin'][rowNum] == \"Missing\":\n",
    "        dataset['Deck'][rowNum] = \"Missing\"\n",
    "        dataset['Side'][rowNum] = \"Missing\"\n",
    "    else:\n",
    "        dataset['Deck'][rowNum] = dataset['Cabin'][rowNum][0]\n",
    "        dataset['Side'][rowNum] = dataset['Cabin'][rowNum].split(\"/\")[2]\n",
    "        \n",
    "#Drop Cabin feature\n",
    "dataset = dataset.drop(columns=['Cabin'],axis=1)\n",
    "dataset.head()"
   ]
  },
  {
   "cell_type": "markdown",
   "id": "b316bcac",
   "metadata": {},
   "source": [
    "# ------------------------------------------------------------------------------------------------------------"
   ]
  },
  {
   "cell_type": "markdown",
   "id": "5d9e2530",
   "metadata": {},
   "source": [
    "### Handling NULL Values (Numerical Features)"
   ]
  },
  {
   "cell_type": "code",
   "execution_count": 11,
   "id": "3b91c3ab",
   "metadata": {},
   "outputs": [],
   "source": [
    "# Hndling RoomService, FoodCourt, ShoppingMall, Spa, and VRDeck\n",
    "dataset[['RoomService', 'FoodCourt', 'ShoppingMall', 'Spa', 'VRDeck']] \\\n",
    "    = dataset[['RoomService', 'FoodCourt', 'ShoppingMall', 'Spa', 'VRDeck']].fillna(value=0)\n",
    "\n",
    "# Handling age\n",
    "dataset['Age'] = dataset['Age'].fillna(dataset['Age'].mean())"
   ]
  },
  {
   "cell_type": "code",
   "execution_count": 12,
   "id": "96285aff",
   "metadata": {},
   "outputs": [],
   "source": [
    "# Converting float features to int ones\n",
    "dataset[\"RoomService\"] = dataset[\"RoomService\"].astype(int)\n",
    "dataset[\"FoodCourt\"] = dataset[\"FoodCourt\"].astype(int)\n",
    "dataset[\"ShoppingMall\"] = dataset[\"ShoppingMall\"].astype(int)\n",
    "dataset[\"Spa\"] = dataset[\"Spa\"].astype(int)\n",
    "dataset[\"VRDeck\"] = dataset[\"VRDeck\"].astype(int)"
   ]
  },
  {
   "cell_type": "markdown",
   "id": "e48ebb6f",
   "metadata": {},
   "source": [
    "# ----------------------------------------------------------------------------------------------------------"
   ]
  },
  {
   "cell_type": "markdown",
   "id": "7cc86a21",
   "metadata": {},
   "source": [
    "## Checking Null Values"
   ]
  },
  {
   "cell_type": "code",
   "execution_count": 13,
   "id": "2273cb74",
   "metadata": {
    "scrolled": true
   },
   "outputs": [
    {
     "data": {
      "text/plain": [
       "HomePlanet      0\n",
       "CryoSleep       0\n",
       "Destination     0\n",
       "Age             0\n",
       "VIP             0\n",
       "RoomService     0\n",
       "FoodCourt       0\n",
       "ShoppingMall    0\n",
       "Spa             0\n",
       "VRDeck          0\n",
       "Transported     0\n",
       "Deck            0\n",
       "Side            0\n",
       "dtype: int64"
      ]
     },
     "execution_count": 13,
     "metadata": {},
     "output_type": "execute_result"
    }
   ],
   "source": [
    "dataset.isnull().sum()"
   ]
  },
  {
   "cell_type": "markdown",
   "id": "d103d0d6",
   "metadata": {},
   "source": [
    "### Our dataset now doesn't have any NULL values as we can see."
   ]
  },
  {
   "cell_type": "markdown",
   "id": "71054f37",
   "metadata": {},
   "source": [
    "# ------------------------------------------------------------------------------------------------------------"
   ]
  },
  {
   "cell_type": "markdown",
   "id": "cb4e754c",
   "metadata": {},
   "source": [
    "## Using label encoder to convert \"HomePlanet,\" \"Destination,\" \"Deck,\" and \"Side\" to numerical features."
   ]
  },
  {
   "cell_type": "code",
   "execution_count": 14,
   "id": "b87da4b3",
   "metadata": {},
   "outputs": [],
   "source": [
    "from sklearn.preprocessing import LabelEncoder\n",
    "labelencoder = LabelEncoder()\n",
    "dataset['HomePlanet'] = labelencoder.fit_transform(dataset['HomePlanet'])\n",
    "dataset['Destination'] = labelencoder.fit_transform(dataset['Destination'])\n",
    "dataset['Deck'] = labelencoder.fit_transform(dataset['Deck'])\n",
    "dataset['Side'] = labelencoder.fit_transform(dataset['Side'])"
   ]
  },
  {
   "cell_type": "markdown",
   "id": "35a21f6e",
   "metadata": {},
   "source": [
    "## Re-order the columns"
   ]
  },
  {
   "cell_type": "code",
   "execution_count": 15,
   "id": "a81c08a0",
   "metadata": {},
   "outputs": [],
   "source": [
    "new_cols_order = ['HomePlanet','CryoSleep','Destination','VIP','Deck','Side','RoomService', 'FoodCourt', 'ShoppingMall', 'Spa', 'VRDeck', 'Transported']\n",
    "dataset=dataset.reindex(columns=new_cols_order)"
   ]
  },
  {
   "cell_type": "code",
   "execution_count": 16,
   "id": "aa6aaa91",
   "metadata": {},
   "outputs": [
    {
     "data": {
      "text/html": [
       "<div>\n",
       "<style scoped>\n",
       "    .dataframe tbody tr th:only-of-type {\n",
       "        vertical-align: middle;\n",
       "    }\n",
       "\n",
       "    .dataframe tbody tr th {\n",
       "        vertical-align: top;\n",
       "    }\n",
       "\n",
       "    .dataframe thead th {\n",
       "        text-align: right;\n",
       "    }\n",
       "</style>\n",
       "<table border=\"1\" class=\"dataframe\">\n",
       "  <thead>\n",
       "    <tr style=\"text-align: right;\">\n",
       "      <th></th>\n",
       "      <th>HomePlanet</th>\n",
       "      <th>CryoSleep</th>\n",
       "      <th>Destination</th>\n",
       "      <th>VIP</th>\n",
       "      <th>Deck</th>\n",
       "      <th>Side</th>\n",
       "      <th>RoomService</th>\n",
       "      <th>FoodCourt</th>\n",
       "      <th>ShoppingMall</th>\n",
       "      <th>Spa</th>\n",
       "      <th>VRDeck</th>\n",
       "      <th>Transported</th>\n",
       "    </tr>\n",
       "  </thead>\n",
       "  <tbody>\n",
       "    <tr>\n",
       "      <th>0</th>\n",
       "      <td>1</td>\n",
       "      <td>0</td>\n",
       "      <td>2</td>\n",
       "      <td>0</td>\n",
       "      <td>1</td>\n",
       "      <td>1</td>\n",
       "      <td>0</td>\n",
       "      <td>0</td>\n",
       "      <td>0</td>\n",
       "      <td>0</td>\n",
       "      <td>0</td>\n",
       "      <td>0</td>\n",
       "    </tr>\n",
       "    <tr>\n",
       "      <th>1</th>\n",
       "      <td>0</td>\n",
       "      <td>0</td>\n",
       "      <td>2</td>\n",
       "      <td>0</td>\n",
       "      <td>5</td>\n",
       "      <td>2</td>\n",
       "      <td>109</td>\n",
       "      <td>9</td>\n",
       "      <td>25</td>\n",
       "      <td>549</td>\n",
       "      <td>44</td>\n",
       "      <td>1</td>\n",
       "    </tr>\n",
       "    <tr>\n",
       "      <th>2</th>\n",
       "      <td>1</td>\n",
       "      <td>0</td>\n",
       "      <td>2</td>\n",
       "      <td>1</td>\n",
       "      <td>0</td>\n",
       "      <td>2</td>\n",
       "      <td>43</td>\n",
       "      <td>3576</td>\n",
       "      <td>0</td>\n",
       "      <td>6715</td>\n",
       "      <td>49</td>\n",
       "      <td>0</td>\n",
       "    </tr>\n",
       "    <tr>\n",
       "      <th>3</th>\n",
       "      <td>1</td>\n",
       "      <td>0</td>\n",
       "      <td>2</td>\n",
       "      <td>0</td>\n",
       "      <td>0</td>\n",
       "      <td>2</td>\n",
       "      <td>0</td>\n",
       "      <td>1283</td>\n",
       "      <td>371</td>\n",
       "      <td>3329</td>\n",
       "      <td>193</td>\n",
       "      <td>0</td>\n",
       "    </tr>\n",
       "    <tr>\n",
       "      <th>4</th>\n",
       "      <td>0</td>\n",
       "      <td>0</td>\n",
       "      <td>2</td>\n",
       "      <td>0</td>\n",
       "      <td>5</td>\n",
       "      <td>2</td>\n",
       "      <td>303</td>\n",
       "      <td>70</td>\n",
       "      <td>151</td>\n",
       "      <td>565</td>\n",
       "      <td>2</td>\n",
       "      <td>1</td>\n",
       "    </tr>\n",
       "    <tr>\n",
       "      <th>...</th>\n",
       "      <td>...</td>\n",
       "      <td>...</td>\n",
       "      <td>...</td>\n",
       "      <td>...</td>\n",
       "      <td>...</td>\n",
       "      <td>...</td>\n",
       "      <td>...</td>\n",
       "      <td>...</td>\n",
       "      <td>...</td>\n",
       "      <td>...</td>\n",
       "      <td>...</td>\n",
       "      <td>...</td>\n",
       "    </tr>\n",
       "    <tr>\n",
       "      <th>8688</th>\n",
       "      <td>1</td>\n",
       "      <td>0</td>\n",
       "      <td>0</td>\n",
       "      <td>1</td>\n",
       "      <td>0</td>\n",
       "      <td>1</td>\n",
       "      <td>0</td>\n",
       "      <td>6819</td>\n",
       "      <td>0</td>\n",
       "      <td>1643</td>\n",
       "      <td>74</td>\n",
       "      <td>0</td>\n",
       "    </tr>\n",
       "    <tr>\n",
       "      <th>8689</th>\n",
       "      <td>0</td>\n",
       "      <td>1</td>\n",
       "      <td>1</td>\n",
       "      <td>0</td>\n",
       "      <td>6</td>\n",
       "      <td>2</td>\n",
       "      <td>0</td>\n",
       "      <td>0</td>\n",
       "      <td>0</td>\n",
       "      <td>0</td>\n",
       "      <td>0</td>\n",
       "      <td>0</td>\n",
       "    </tr>\n",
       "    <tr>\n",
       "      <th>8690</th>\n",
       "      <td>0</td>\n",
       "      <td>0</td>\n",
       "      <td>2</td>\n",
       "      <td>0</td>\n",
       "      <td>6</td>\n",
       "      <td>2</td>\n",
       "      <td>0</td>\n",
       "      <td>0</td>\n",
       "      <td>1872</td>\n",
       "      <td>1</td>\n",
       "      <td>0</td>\n",
       "      <td>1</td>\n",
       "    </tr>\n",
       "    <tr>\n",
       "      <th>8691</th>\n",
       "      <td>1</td>\n",
       "      <td>0</td>\n",
       "      <td>0</td>\n",
       "      <td>0</td>\n",
       "      <td>4</td>\n",
       "      <td>2</td>\n",
       "      <td>0</td>\n",
       "      <td>1049</td>\n",
       "      <td>0</td>\n",
       "      <td>353</td>\n",
       "      <td>3235</td>\n",
       "      <td>0</td>\n",
       "    </tr>\n",
       "    <tr>\n",
       "      <th>8692</th>\n",
       "      <td>1</td>\n",
       "      <td>0</td>\n",
       "      <td>2</td>\n",
       "      <td>0</td>\n",
       "      <td>4</td>\n",
       "      <td>2</td>\n",
       "      <td>126</td>\n",
       "      <td>4688</td>\n",
       "      <td>0</td>\n",
       "      <td>0</td>\n",
       "      <td>12</td>\n",
       "      <td>1</td>\n",
       "    </tr>\n",
       "  </tbody>\n",
       "</table>\n",
       "<p>8693 rows × 12 columns</p>\n",
       "</div>"
      ],
      "text/plain": [
       "      HomePlanet  CryoSleep  Destination  VIP  Deck  Side  RoomService  \\\n",
       "0              1          0            2    0     1     1            0   \n",
       "1              0          0            2    0     5     2          109   \n",
       "2              1          0            2    1     0     2           43   \n",
       "3              1          0            2    0     0     2            0   \n",
       "4              0          0            2    0     5     2          303   \n",
       "...          ...        ...          ...  ...   ...   ...          ...   \n",
       "8688           1          0            0    1     0     1            0   \n",
       "8689           0          1            1    0     6     2            0   \n",
       "8690           0          0            2    0     6     2            0   \n",
       "8691           1          0            0    0     4     2            0   \n",
       "8692           1          0            2    0     4     2          126   \n",
       "\n",
       "      FoodCourt  ShoppingMall   Spa  VRDeck  Transported  \n",
       "0             0             0     0       0            0  \n",
       "1             9            25   549      44            1  \n",
       "2          3576             0  6715      49            0  \n",
       "3          1283           371  3329     193            0  \n",
       "4            70           151   565       2            1  \n",
       "...         ...           ...   ...     ...          ...  \n",
       "8688       6819             0  1643      74            0  \n",
       "8689          0             0     0       0            0  \n",
       "8690          0          1872     1       0            1  \n",
       "8691       1049             0   353    3235            0  \n",
       "8692       4688             0     0      12            1  \n",
       "\n",
       "[8693 rows x 12 columns]"
      ]
     },
     "execution_count": 16,
     "metadata": {},
     "output_type": "execute_result"
    }
   ],
   "source": [
    "dataset"
   ]
  },
  {
   "cell_type": "code",
   "execution_count": 17,
   "id": "b57a3d7f",
   "metadata": {
    "scrolled": true
   },
   "outputs": [
    {
     "name": "stdout",
     "output_type": "stream",
     "text": [
      "<class 'pandas.core.frame.DataFrame'>\n",
      "RangeIndex: 8693 entries, 0 to 8692\n",
      "Data columns (total 12 columns):\n",
      " #   Column        Non-Null Count  Dtype\n",
      "---  ------        --------------  -----\n",
      " 0   HomePlanet    8693 non-null   int32\n",
      " 1   CryoSleep     8693 non-null   int32\n",
      " 2   Destination   8693 non-null   int32\n",
      " 3   VIP           8693 non-null   int32\n",
      " 4   Deck          8693 non-null   int32\n",
      " 5   Side          8693 non-null   int32\n",
      " 6   RoomService   8693 non-null   int32\n",
      " 7   FoodCourt     8693 non-null   int32\n",
      " 8   ShoppingMall  8693 non-null   int32\n",
      " 9   Spa           8693 non-null   int32\n",
      " 10  VRDeck        8693 non-null   int32\n",
      " 11  Transported   8693 non-null   int32\n",
      "dtypes: int32(12)\n",
      "memory usage: 407.6 KB\n"
     ]
    }
   ],
   "source": [
    "dataset.info()"
   ]
  },
  {
   "cell_type": "markdown",
   "id": "32b21d48",
   "metadata": {},
   "source": [
    "# ----------------------------------------------------------------------------------------------------------"
   ]
  },
  {
   "cell_type": "markdown",
   "id": "08283f73",
   "metadata": {},
   "source": [
    "<a id='eda'></a>\n",
    "\n",
    "<center><strong><h1 style=\"color:navy\">EDA</h1></strong></center>"
   ]
  },
  {
   "cell_type": "markdown",
   "id": "e96e6193",
   "metadata": {},
   "source": [
    "## Checking if the data is balanced or not."
   ]
  },
  {
   "cell_type": "code",
   "execution_count": 18,
   "id": "85725cbc",
   "metadata": {
    "scrolled": false
   },
   "outputs": [
    {
     "data": {
      "image/png": "[encoded data removed]",
      "text/plain": [
       "<Figure size 720x360 with 1 Axes>"
      ]
     },
     "metadata": {
      "needs_background": "light"
     },
     "output_type": "display_data"
    }
   ],
   "source": [
    "plt.figure(figsize = (10,5))\n",
    "sns.countplot(dataset['Transported'], alpha =.80, palette= ['grey','lightgreen'])\n",
    "plt.title('Transported vs Not-Transported')\n",
    "plt.ylabel('# passengers')\n",
    "plt.show()"
   ]
  },
  {
   "cell_type": "markdown",
   "id": "97c11bd3",
   "metadata": {},
   "source": [
    "### The bar-plot above demonstrates that our dataset is balanced."
   ]
  },
  {
   "cell_type": "markdown",
   "id": "1b84c8e6",
   "metadata": {},
   "source": [
    "# ----------------------------------------------------------------------------------------------------"
   ]
  },
  {
   "cell_type": "markdown",
   "id": "bf3634aa",
   "metadata": {},
   "source": [
    "## Heat map that shows the correlations between features."
   ]
  },
  {
   "cell_type": "code",
   "execution_count": 19,
   "id": "5d786669",
   "metadata": {
    "scrolled": false
   },
   "outputs": [
    {
     "data": {
      "image/png": "[encoded data removed]",
      "text/plain": [
       "<Figure size 720x504 with 2 Axes>"
      ]
     },
     "metadata": {
      "needs_background": "light"
     },
     "output_type": "display_data"
    }
   ],
   "source": [
    "plt.figure(figsize=(10,7))\n",
    "sns.heatmap(dataset.corr(), annot=True, cmap='inferno');"
   ]
  },
  {
   "cell_type": "code",
   "execution_count": 20,
   "id": "3060636e",
   "metadata": {},
   "outputs": [
    {
     "data": {
      "text/plain": [
       "CryoSleep       0.460132\n",
       "RoomService     0.241124\n",
       "Spa             0.218545\n",
       "VRDeck          0.204874\n",
       "HomePlanet      0.115461\n",
       "Deck            0.112417\n",
       "Destination     0.108152\n",
       "Side            0.093497\n",
       "FoodCourt       0.045583\n",
       "VIP             0.037261\n",
       "ShoppingMall    0.009391\n",
       "Name: Transported, dtype: float64"
      ]
     },
     "execution_count": 20,
     "metadata": {},
     "output_type": "execute_result"
    }
   ],
   "source": [
    "dataset.corr()[\"Transported\"].abs().sort_values(ascending=False)[1:]"
   ]
  },
  {
   "cell_type": "markdown",
   "id": "f85ae003",
   "metadata": {},
   "source": [
    "## ShoppingMall Feature has small correlation with our target so I will remove it"
   ]
  },
  {
   "cell_type": "code",
   "execution_count": 21,
   "id": "b493b437",
   "metadata": {},
   "outputs": [],
   "source": [
    "dataset = dataset.drop(columns=['ShoppingMall'])"
   ]
  },
  {
   "cell_type": "code",
   "execution_count": 22,
   "id": "aa05bbf7",
   "metadata": {},
   "outputs": [
    {
     "data": {
      "image/png": "[encoded data removed]",
      "text/plain": [
       "<Figure size 432x288 with 2 Axes>"
      ]
     },
     "metadata": {
      "needs_background": "light"
     },
     "output_type": "display_data"
    }
   ],
   "source": [
    "from sklearn.metrics import confusion_matrix\n",
    "cm = confusion_matrix(dataset['CryoSleep'],dataset['VIP'])\n",
    "sns.heatmap(cm,linewidths=1,annot=True,fmt='.0f').set(title='CryoSleep vs VIP',xticklabels=['Not VIP','VIP'], yticklabels=['No CryoSleep','Has CryoSleep']);"
   ]
  },
  {
   "cell_type": "markdown",
   "id": "2ebb1b1b",
   "metadata": {},
   "source": [
    "\n",
    "<strong><h3>We can infer from the heatmap above🕵️ that customers who purchased a VIP experience often declined to CryoSleep. This can be explained by the fact that they wanted to take it all in and experience it as being a VIP would be less important if they were frozen.</h3></strong>"
   ]
  },
  {
   "cell_type": "markdown",
   "id": "ee2892c7",
   "metadata": {},
   "source": [
    "# ------------------------------------------------------------------------------------------------------------"
   ]
  },
  {
   "cell_type": "markdown",
   "id": "ef616005",
   "metadata": {},
   "source": [
    "# Preparing Data to train models"
   ]
  },
  {
   "cell_type": "markdown",
   "id": "e92eebf3",
   "metadata": {},
   "source": [
    "### We need to normalizing/standardizing features"
   ]
  },
  {
   "cell_type": "code",
   "execution_count": 23,
   "id": "a2151e41",
   "metadata": {},
   "outputs": [],
   "source": [
    "minmax = MinMaxScaler()\n",
    "dataset[['RoomService', 'FoodCourt', 'Spa', 'VRDeck']] = minmax.fit_transform(dataset[['RoomService', 'FoodCourt', 'Spa', 'VRDeck']])"
   ]
  },
  {
   "cell_type": "code",
   "execution_count": 24,
   "id": "f0cfbdfd",
   "metadata": {},
   "outputs": [
    {
     "data": {
      "text/html": [
       "<div>\n",
       "<style scoped>\n",
       "    .dataframe tbody tr th:only-of-type {\n",
       "        vertical-align: middle;\n",
       "    }\n",
       "\n",
       "    .dataframe tbody tr th {\n",
       "        vertical-align: top;\n",
       "    }\n",
       "\n",
       "    .dataframe thead th {\n",
       "        text-align: right;\n",
       "    }\n",
       "</style>\n",
       "<table border=\"1\" class=\"dataframe\">\n",
       "  <thead>\n",
       "    <tr style=\"text-align: right;\">\n",
       "      <th></th>\n",
       "      <th>HomePlanet</th>\n",
       "      <th>CryoSleep</th>\n",
       "      <th>Destination</th>\n",
       "      <th>VIP</th>\n",
       "      <th>Deck</th>\n",
       "      <th>Side</th>\n",
       "      <th>RoomService</th>\n",
       "      <th>FoodCourt</th>\n",
       "      <th>Spa</th>\n",
       "      <th>VRDeck</th>\n",
       "      <th>Transported</th>\n",
       "    </tr>\n",
       "  </thead>\n",
       "  <tbody>\n",
       "    <tr>\n",
       "      <th>0</th>\n",
       "      <td>1</td>\n",
       "      <td>0</td>\n",
       "      <td>2</td>\n",
       "      <td>0</td>\n",
       "      <td>1</td>\n",
       "      <td>1</td>\n",
       "      <td>0.000000</td>\n",
       "      <td>0.000000</td>\n",
       "      <td>0.000000</td>\n",
       "      <td>0.000000</td>\n",
       "      <td>0</td>\n",
       "    </tr>\n",
       "    <tr>\n",
       "      <th>1</th>\n",
       "      <td>0</td>\n",
       "      <td>0</td>\n",
       "      <td>2</td>\n",
       "      <td>0</td>\n",
       "      <td>5</td>\n",
       "      <td>2</td>\n",
       "      <td>0.007608</td>\n",
       "      <td>0.000302</td>\n",
       "      <td>0.024500</td>\n",
       "      <td>0.001823</td>\n",
       "      <td>1</td>\n",
       "    </tr>\n",
       "    <tr>\n",
       "      <th>2</th>\n",
       "      <td>1</td>\n",
       "      <td>0</td>\n",
       "      <td>2</td>\n",
       "      <td>1</td>\n",
       "      <td>0</td>\n",
       "      <td>2</td>\n",
       "      <td>0.003001</td>\n",
       "      <td>0.119948</td>\n",
       "      <td>0.299670</td>\n",
       "      <td>0.002030</td>\n",
       "      <td>0</td>\n",
       "    </tr>\n",
       "    <tr>\n",
       "      <th>3</th>\n",
       "      <td>1</td>\n",
       "      <td>0</td>\n",
       "      <td>2</td>\n",
       "      <td>0</td>\n",
       "      <td>0</td>\n",
       "      <td>2</td>\n",
       "      <td>0.000000</td>\n",
       "      <td>0.043035</td>\n",
       "      <td>0.148563</td>\n",
       "      <td>0.007997</td>\n",
       "      <td>0</td>\n",
       "    </tr>\n",
       "    <tr>\n",
       "      <th>4</th>\n",
       "      <td>0</td>\n",
       "      <td>0</td>\n",
       "      <td>2</td>\n",
       "      <td>0</td>\n",
       "      <td>5</td>\n",
       "      <td>2</td>\n",
       "      <td>0.021149</td>\n",
       "      <td>0.002348</td>\n",
       "      <td>0.025214</td>\n",
       "      <td>0.000083</td>\n",
       "      <td>1</td>\n",
       "    </tr>\n",
       "    <tr>\n",
       "      <th>...</th>\n",
       "      <td>...</td>\n",
       "      <td>...</td>\n",
       "      <td>...</td>\n",
       "      <td>...</td>\n",
       "      <td>...</td>\n",
       "      <td>...</td>\n",
       "      <td>...</td>\n",
       "      <td>...</td>\n",
       "      <td>...</td>\n",
       "      <td>...</td>\n",
       "      <td>...</td>\n",
       "    </tr>\n",
       "    <tr>\n",
       "      <th>8688</th>\n",
       "      <td>1</td>\n",
       "      <td>0</td>\n",
       "      <td>0</td>\n",
       "      <td>1</td>\n",
       "      <td>0</td>\n",
       "      <td>1</td>\n",
       "      <td>0.000000</td>\n",
       "      <td>0.228726</td>\n",
       "      <td>0.073322</td>\n",
       "      <td>0.003066</td>\n",
       "      <td>0</td>\n",
       "    </tr>\n",
       "    <tr>\n",
       "      <th>8689</th>\n",
       "      <td>0</td>\n",
       "      <td>1</td>\n",
       "      <td>1</td>\n",
       "      <td>0</td>\n",
       "      <td>6</td>\n",
       "      <td>2</td>\n",
       "      <td>0.000000</td>\n",
       "      <td>0.000000</td>\n",
       "      <td>0.000000</td>\n",
       "      <td>0.000000</td>\n",
       "      <td>0</td>\n",
       "    </tr>\n",
       "    <tr>\n",
       "      <th>8690</th>\n",
       "      <td>0</td>\n",
       "      <td>0</td>\n",
       "      <td>2</td>\n",
       "      <td>0</td>\n",
       "      <td>6</td>\n",
       "      <td>2</td>\n",
       "      <td>0.000000</td>\n",
       "      <td>0.000000</td>\n",
       "      <td>0.000045</td>\n",
       "      <td>0.000000</td>\n",
       "      <td>1</td>\n",
       "    </tr>\n",
       "    <tr>\n",
       "      <th>8691</th>\n",
       "      <td>1</td>\n",
       "      <td>0</td>\n",
       "      <td>0</td>\n",
       "      <td>0</td>\n",
       "      <td>4</td>\n",
       "      <td>2</td>\n",
       "      <td>0.000000</td>\n",
       "      <td>0.035186</td>\n",
       "      <td>0.015753</td>\n",
       "      <td>0.134049</td>\n",
       "      <td>0</td>\n",
       "    </tr>\n",
       "    <tr>\n",
       "      <th>8692</th>\n",
       "      <td>1</td>\n",
       "      <td>0</td>\n",
       "      <td>2</td>\n",
       "      <td>0</td>\n",
       "      <td>4</td>\n",
       "      <td>2</td>\n",
       "      <td>0.008795</td>\n",
       "      <td>0.157247</td>\n",
       "      <td>0.000000</td>\n",
       "      <td>0.000497</td>\n",
       "      <td>1</td>\n",
       "    </tr>\n",
       "  </tbody>\n",
       "</table>\n",
       "<p>8693 rows × 11 columns</p>\n",
       "</div>"
      ],
      "text/plain": [
       "      HomePlanet  CryoSleep  Destination  VIP  Deck  Side  RoomService  \\\n",
       "0              1          0            2    0     1     1     0.000000   \n",
       "1              0          0            2    0     5     2     0.007608   \n",
       "2              1          0            2    1     0     2     0.003001   \n",
       "3              1          0            2    0     0     2     0.000000   \n",
       "4              0          0            2    0     5     2     0.021149   \n",
       "...          ...        ...          ...  ...   ...   ...          ...   \n",
       "8688           1          0            0    1     0     1     0.000000   \n",
       "8689           0          1            1    0     6     2     0.000000   \n",
       "8690           0          0            2    0     6     2     0.000000   \n",
       "8691           1          0            0    0     4     2     0.000000   \n",
       "8692           1          0            2    0     4     2     0.008795   \n",
       "\n",
       "      FoodCourt       Spa    VRDeck  Transported  \n",
       "0      0.000000  0.000000  0.000000            0  \n",
       "1      0.000302  0.024500  0.001823            1  \n",
       "2      0.119948  0.299670  0.002030            0  \n",
       "3      0.043035  0.148563  0.007997            0  \n",
       "4      0.002348  0.025214  0.000083            1  \n",
       "...         ...       ...       ...          ...  \n",
       "8688   0.228726  0.073322  0.003066            0  \n",
       "8689   0.000000  0.000000  0.000000            0  \n",
       "8690   0.000000  0.000045  0.000000            1  \n",
       "8691   0.035186  0.015753  0.134049            0  \n",
       "8692   0.157247  0.000000  0.000497            1  \n",
       "\n",
       "[8693 rows x 11 columns]"
      ]
     },
     "execution_count": 24,
     "metadata": {},
     "output_type": "execute_result"
    }
   ],
   "source": [
    "dataset"
   ]
  },
  {
   "cell_type": "markdown",
   "id": "4ea57a6c",
   "metadata": {},
   "source": [
    "<strong><h3>We can now see that all of our features have been normalised and that our data has been clean.</h3></strong>\n",
    "\n",
    "<strong><h3>Consequently, we may state that our data is prepared for the model.💥💃💥💃💥.</h3></strong>"
   ]
  },
  {
   "cell_type": "markdown",
   "id": "75c42117",
   "metadata": {},
   "source": [
    "# -----------------------------------------------------------------------------------------------------------"
   ]
  },
  {
   "cell_type": "markdown",
   "id": "3d9d516e",
   "metadata": {},
   "source": [
    "<a id='model'></a>\n",
    "\n",
    "<center><strong><h1 style=\"color:navy\">Modeling</h1></strong></center>"
   ]
  },
  {
   "cell_type": "markdown",
   "id": "56cc768f",
   "metadata": {},
   "source": [
    "<strong><p>As we already know, our issue is one of classification (supervised), hence the models I'll be using and contrasting are as follows:</p></strong>  \n",
    "\n",
    "<ul style=\"color:gray\">\n",
    "    <li>Logistic Regression</li>\n",
    "    <li>Random Forests</li>\n",
    "    <li>KNeighbors</li>\n",
    "    <li>GaussianNB</li>\n",
    "    <li>Perceptron</li>\n",
    "    <li>Naïve Bayes (Multinomial)</li>\n",
    "    <li>SVM with linearkernel</li>\n",
    "    <li>SVM with polynomial kernel</li>\n",
    "</ul>    "
   ]
  },
  {
   "cell_type": "markdown",
   "id": "796e0b95",
   "metadata": {},
   "source": [
    "<h3><center><font color=purple> \n",
    "    Seperate the label from our features to split our data to tran/test </font></center></h3>"
   ]
  },
  {
   "cell_type": "code",
   "execution_count": 25,
   "id": "3052e234",
   "metadata": {},
   "outputs": [],
   "source": [
    "X = dataset.iloc[:,0:-1].values\n",
    "y = dataset.iloc[:,-1].values"
   ]
  },
  {
   "cell_type": "markdown",
   "id": "81c25f74",
   "metadata": {},
   "source": [
    "<h3><center><font color=purple> \n",
    "    Seperate the label from our features to split our data to tran/test </font></center></h3>"
   ]
  },
  {
   "cell_type": "code",
   "execution_count": 26,
   "id": "9f715f47",
   "metadata": {},
   "outputs": [],
   "source": [
    "X_train, X_test, y_train, y_test = train_test_split(X, y, test_size = 0.2, random_state = 0)"
   ]
  },
  {
   "cell_type": "markdown",
   "id": "a0eb304e",
   "metadata": {},
   "source": [
    "<br>\n",
    "<h1><center><font color=navy> \n",
    "    Training ML Models </font></center></h1>"
   ]
  },
  {
   "cell_type": "markdown",
   "id": "e3f84c7d",
   "metadata": {},
   "source": [
    "<h3><font color=teal> \n",
    "    Logistic Regression </font></h3>"
   ]
  },
  {
   "cell_type": "code",
   "execution_count": 27,
   "id": "92305a75",
   "metadata": {},
   "outputs": [],
   "source": [
    "logreg = LogisticRegression(solver='lbfgs', max_iter=200) \n",
    "logreg.fit(X_train, y_train)\n",
    "y_pred = logreg.predict(X_test)"
   ]
  },
  {
   "cell_type": "code",
   "execution_count": 28,
   "id": "afe1d444",
   "metadata": {},
   "outputs": [
    {
     "data": {
      "text/html": [
       "<div>\n",
       "<style scoped>\n",
       "    .dataframe tbody tr th:only-of-type {\n",
       "        vertical-align: middle;\n",
       "    }\n",
       "\n",
       "    .dataframe tbody tr th {\n",
       "        vertical-align: top;\n",
       "    }\n",
       "\n",
       "    .dataframe thead th {\n",
       "        text-align: right;\n",
       "    }\n",
       "</style>\n",
       "<table border=\"1\" class=\"dataframe\">\n",
       "  <thead>\n",
       "    <tr style=\"text-align: right;\">\n",
       "      <th></th>\n",
       "      <th>Actual Value</th>\n",
       "      <th>Predicted Value</th>\n",
       "    </tr>\n",
       "  </thead>\n",
       "  <tbody>\n",
       "    <tr>\n",
       "      <th>0</th>\n",
       "      <td>1</td>\n",
       "      <td>0</td>\n",
       "    </tr>\n",
       "    <tr>\n",
       "      <th>1</th>\n",
       "      <td>1</td>\n",
       "      <td>0</td>\n",
       "    </tr>\n",
       "    <tr>\n",
       "      <th>2</th>\n",
       "      <td>0</td>\n",
       "      <td>0</td>\n",
       "    </tr>\n",
       "    <tr>\n",
       "      <th>3</th>\n",
       "      <td>0</td>\n",
       "      <td>0</td>\n",
       "    </tr>\n",
       "    <tr>\n",
       "      <th>4</th>\n",
       "      <td>1</td>\n",
       "      <td>1</td>\n",
       "    </tr>\n",
       "    <tr>\n",
       "      <th>...</th>\n",
       "      <td>...</td>\n",
       "      <td>...</td>\n",
       "    </tr>\n",
       "    <tr>\n",
       "      <th>1734</th>\n",
       "      <td>0</td>\n",
       "      <td>0</td>\n",
       "    </tr>\n",
       "    <tr>\n",
       "      <th>1735</th>\n",
       "      <td>0</td>\n",
       "      <td>0</td>\n",
       "    </tr>\n",
       "    <tr>\n",
       "      <th>1736</th>\n",
       "      <td>1</td>\n",
       "      <td>1</td>\n",
       "    </tr>\n",
       "    <tr>\n",
       "      <th>1737</th>\n",
       "      <td>0</td>\n",
       "      <td>0</td>\n",
       "    </tr>\n",
       "    <tr>\n",
       "      <th>1738</th>\n",
       "      <td>1</td>\n",
       "      <td>0</td>\n",
       "    </tr>\n",
       "  </tbody>\n",
       "</table>\n",
       "<p>1739 rows × 2 columns</p>\n",
       "</div>"
      ],
      "text/plain": [
       "      Actual Value  Predicted Value\n",
       "0                1                0\n",
       "1                1                0\n",
       "2                0                0\n",
       "3                0                0\n",
       "4                1                1\n",
       "...            ...              ...\n",
       "1734             0                0\n",
       "1735             0                0\n",
       "1736             1                1\n",
       "1737             0                0\n",
       "1738             1                0\n",
       "\n",
       "[1739 rows x 2 columns]"
      ]
     },
     "execution_count": 28,
     "metadata": {},
     "output_type": "execute_result"
    }
   ],
   "source": [
    "pred_df= pd.DataFrame({'Actual Value':y_test,'Predicted Value':y_pred})\n",
    "pred_df"
   ]
  },
  {
   "cell_type": "code",
   "execution_count": 29,
   "id": "9414eea5",
   "metadata": {},
   "outputs": [],
   "source": [
    "# accuracy on test data\n",
    "lr_train = logreg.score(X_train,y_train)*100\n",
    "lr_test = logreg.score(X_test,y_test)*100"
   ]
  },
  {
   "cell_type": "code",
   "execution_count": 30,
   "id": "f57a60c0",
   "metadata": {},
   "outputs": [
    {
     "data": {
      "image/png": "[encoded data removed]",
      "text/plain": [
       "<Figure size 720x360 with 1 Axes>"
      ]
     },
     "metadata": {
      "needs_background": "light"
     },
     "output_type": "display_data"
    },
    {
     "name": "stdout",
     "output_type": "stream",
     "text": [
      "Train: 75.53925798101811\n",
      "Test: 75.56066705002875\n"
     ]
    }
   ],
   "source": [
    "# creating the dataset\n",
    "lr_data = {'Training accuracy':lr_train, 'Test accuracy':lr_test}\n",
    "train_test = list(lr_data.keys())\n",
    "values = list(lr_data.values())\n",
    "  \n",
    "fig = plt.figure(figsize = (10, 5))\n",
    " \n",
    "# creating the bar plot\n",
    "plt.bar(train_test, values, color ='gray',\n",
    "        width = 0.4)\n",
    " \n",
    "#plt.xlabel(\"Courses offered\")\n",
    "#plt.ylabel(\"No. of students enrolled\")\n",
    "plt.title(\"Train/Test accuracy for Logistic Regression\")\n",
    "plt.show()\n",
    "print(\"Train: \" + str(lr_train))\n",
    "print(\"Test: \" + str(lr_test))"
   ]
  },
  {
   "cell_type": "markdown",
   "id": "3b15758c",
   "metadata": {},
   "source": [
    "<strong><h3>Ummm🤔, As a result, the accuracy of the Logistic Regression model was 75.445%, which isn't great but also means that there isn't any overfitting. However, let's try a different technique.</h3></strong>"
   ]
  },
  {
   "cell_type": "markdown",
   "id": "f1189a73",
   "metadata": {},
   "source": [
    "<h3><font color=teal> \n",
    "    KNeighborsClassifier</font></h3>"
   ]
  },
  {
   "cell_type": "code",
   "execution_count": 31,
   "id": "ffe2729b",
   "metadata": {},
   "outputs": [],
   "source": [
    "knnClassifier = KNeighborsClassifier(n_neighbors=3)\n",
    "knnClassifier.fit(X_train,y_train);"
   ]
  },
  {
   "cell_type": "code",
   "execution_count": 32,
   "id": "f4cf011d",
   "metadata": {},
   "outputs": [],
   "source": [
    "kn_train = knnClassifier.score(X_train,y_train)*100\n",
    "kn_test = knnClassifier.score(X_test,y_test)*100"
   ]
  },
  {
   "cell_type": "code",
   "execution_count": 33,
   "id": "da354721",
   "metadata": {},
   "outputs": [
    {
     "data": {
      "image/png": "[encoded data removed]",
      "text/plain": [
       "<Figure size 720x360 with 1 Axes>"
      ]
     },
     "metadata": {
      "needs_background": "light"
     },
     "output_type": "display_data"
    },
    {
     "name": "stdout",
     "output_type": "stream",
     "text": [
      "Train: 82.2260569456428\n",
      "Test: 75.7906843013226\n"
     ]
    }
   ],
   "source": [
    "# creating the dataset\n",
    "kn_data = {'Training accuracy':kn_train, 'Test accuracy':kn_test}\n",
    "train_test = list(kn_data.keys())\n",
    "values = list(kn_data.values())\n",
    "  \n",
    "fig = plt.figure(figsize = (10, 5))\n",
    " \n",
    "# creating the bar plot\n",
    "plt.bar(train_test, values, color ='gray',\n",
    "        width = 0.4)\n",
    " \n",
    "plt.title(\"Train/Test accuracy for KNeighborsClassifier\")\n",
    "plt.show()\n",
    "print(\"Train: \" + str(kn_train))\n",
    "print(\"Test: \" + str(kn_test))"
   ]
  },
  {
   "cell_type": "markdown",
   "id": "f91758a6",
   "metadata": {},
   "source": [
    "<strong><h3>Since KNNs are prone to overfitting, it is not entirely unexpected that the model performed better on the training set than it did on the test set. However, this can be tolerated because the accuracy gap between the two sets is not that wide. Keep trying; let's try a different algorithm🕵️.</h3></strong>"
   ]
  },
  {
   "cell_type": "markdown",
   "id": "766299bb",
   "metadata": {},
   "source": [
    "<h3><font color=teal> \n",
    "    Random Forests</font></h3>"
   ]
  },
  {
   "cell_type": "code",
   "execution_count": 77,
   "id": "989db4df",
   "metadata": {
    "scrolled": false
   },
   "outputs": [
    {
     "name": "stdout",
     "output_type": "stream",
     "text": [
      "[[651 212]\n",
      " [166 710]]\n",
      "AxesSubplot(0.125,0.125;0.62x0.755)\n",
      "0.7826336975273146\n"
     ]
    },
    {
     "data": {
      "text/plain": [
       "0.7826336975273146"
      ]
     },
     "execution_count": 77,
     "metadata": {},
     "output_type": "execute_result"
    },
    {
     "data": {
      "image/png": "[encoded data removed]",
      "text/plain": [
       "<Figure size 432x288 with 2 Axes>"
      ]
     },
     "metadata": {
      "needs_background": "light"
     },
     "output_type": "display_data"
    }
   ],
   "source": [
    "#Because we will fit this more than once, might as well make a function\n",
    "def fit_random_forest_classifier(X_train, y_train):\n",
    "    #We could grid search and tune, but let's just fit a simple model to see how it does\n",
    "    #instantiate\n",
    "    clf = RandomForestClassifier(n_estimators=100, max_depth=None)\n",
    "\n",
    "    #fit\n",
    "    clf.fit(X_train, y_train)\n",
    "\n",
    "    #predict\n",
    "    y_preds = clf.predict(X_test)\n",
    "\n",
    "    #score\n",
    "    mat = confusion_matrix(y_test, y_preds)\n",
    "    print(mat)\n",
    "    print(sns.heatmap(mat, annot=True, cmap='bwr', linewidths=.5))\n",
    "    acc = accuracy_score(y_test, y_preds)\n",
    "    print(acc)\n",
    "    return acc\n",
    "    \n",
    "fit_random_forest_classifier(X_train, y_train)"
   ]
  },
  {
   "cell_type": "markdown",
   "id": "a87c54c9",
   "metadata": {},
   "source": [
    "### Any thing along the diagonal is basically something where we predicted the same value that was actually true."
   ]
  },
  {
   "cell_type": "markdown",
   "id": "62cecd1d",
   "metadata": {},
   "source": [
    "## Let's play with the parameters...."
   ]
  },
  {
   "cell_type": "code",
   "execution_count": null,
   "id": "d9604131",
   "metadata": {},
   "outputs": [],
   "source": [
    "randomfor = RandomForestClassifier(n_estimators=10,criterion='entropy',random_state=0);\n",
    "randomfor2 = RandomForestClassifier(n_estimators=100,criterion='entropy',random_state=717)\n",
    "randomfor.fit(X_train,y_train);\n",
    "randomfor2.fit(X_train,y_train);"
   ]
  },
  {
   "cell_type": "code",
   "execution_count": 35,
   "id": "44b6e12d",
   "metadata": {},
   "outputs": [],
   "source": [
    "# randomfor\n",
    "rf1_train = randomfor.score(X_train,y_train)*100\n",
    "rf1_test = randomfor.score(X_test,y_test)*100\n",
    "\n",
    "\n",
    "# randomfor2\n",
    "rf2_train = randomfor2.score(X_train,y_train)*100\n",
    "rf2_test = randomfor2.score(X_test,y_test)*100"
   ]
  },
  {
   "cell_type": "code",
   "execution_count": 36,
   "id": "e162a29b",
   "metadata": {},
   "outputs": [
    {
     "data": {
      "image/png": "[encoded data removed]",
      "text/plain": [
       "<Figure size 720x360 with 1 Axes>"
      ]
     },
     "metadata": {
      "needs_background": "light"
     },
     "output_type": "display_data"
    },
    {
     "name": "stdout",
     "output_type": "stream",
     "text": [
      "Train: 90.58096059821685\n",
      "Test: 76.88326624496837\n"
     ]
    }
   ],
   "source": [
    "rf1_data = {'Training accuracy':rf1_train, 'Test accuracy':rf1_test}\n",
    "train_test = list(rf1_data.keys())\n",
    "values = list(rf1_data.values())\n",
    "  \n",
    "fig = plt.figure(figsize = (10, 5))\n",
    " \n",
    "# creating the bar plot\n",
    "plt.bar(train_test, values, color ='gray',\n",
    "        width = 0.4)\n",
    " \n",
    "plt.title(\"Train/Test accuracy for Random Forests\")\n",
    "plt.show()\n",
    "print(\"Train: \" + str(rf1_train))\n",
    "print(\"Test: \" + str(rf1_test))"
   ]
  },
  {
   "cell_type": "code",
   "execution_count": 37,
   "id": "117a4db3",
   "metadata": {},
   "outputs": [
    {
     "data": {
      "image/png": "[encoded data removed]",
      "text/plain": [
       "<Figure size 720x360 with 1 Axes>"
      ]
     },
     "metadata": {
      "needs_background": "light"
     },
     "output_type": "display_data"
    },
    {
     "name": "stdout",
     "output_type": "stream",
     "text": [
      "Train: 91.58757549611735\n",
      "Test: 77.97584818861415\n"
     ]
    }
   ],
   "source": [
    "rf2_data = {'Training accuracy':rf2_train, 'Test accuracy':rf2_test}\n",
    "train_test = list(rf2_data.keys())\n",
    "values = list(rf2_data.values())\n",
    "  \n",
    "fig = plt.figure(figsize = (10, 5))\n",
    " \n",
    "# creating the bar plot\n",
    "plt.bar(train_test, values, color ='gray',\n",
    "        width = 0.4)\n",
    " \n",
    "plt.title(\"Train/Test accuracy for Random Forests\")\n",
    "plt.show()\n",
    "print(\"Train: \" + str(rf2_train))\n",
    "print(\"Test: \" + str(rf2_test))"
   ]
  },
  {
   "cell_type": "markdown",
   "id": "d3355c03",
   "metadata": {},
   "source": [
    "<h3><font color=purple> \n",
    "    ⚠️OVERFITTING⚠️</font></h3>\n",
    "    \n",
    "<br>\n",
    "\n",
    "<strong><p>As can be seen, the model performs well on the training set but poorly on the test set, and there is a significant difference between the two. This indicates that the model overfits. Attempt another.</p></strong>"
   ]
  },
  {
   "cell_type": "markdown",
   "id": "22fa2465",
   "metadata": {},
   "source": [
    "<h3><font color=teal> \n",
    "    GaussianNB</font></h3>"
   ]
  },
  {
   "cell_type": "code",
   "execution_count": 38,
   "id": "3cf0d4a1",
   "metadata": {
    "scrolled": true
   },
   "outputs": [],
   "source": [
    "#training \n",
    "Guassian_Classifier = GaussianNB()\n",
    "Guassian_Classifier.fit(X_train, y_train)\n",
    "y_pred=Guassian_Classifier.predict(X_test)"
   ]
  },
  {
   "cell_type": "code",
   "execution_count": 39,
   "id": "681aacc7",
   "metadata": {},
   "outputs": [],
   "source": [
    "gs_train = Guassian_Classifier.score(X_train,y_train)*100\n",
    "gs_test = Guassian_Classifier.score(X_test,y_test)*100"
   ]
  },
  {
   "cell_type": "code",
   "execution_count": 40,
   "id": "0d173b89",
   "metadata": {},
   "outputs": [
    {
     "data": {
      "image/png": "[encoded data removed]",
      "text/plain": [
       "<Figure size 720x360 with 1 Axes>"
      ]
     },
     "metadata": {
      "needs_background": "light"
     },
     "output_type": "display_data"
    },
    {
     "name": "stdout",
     "output_type": "stream",
     "text": [
      "Train: 69.2982456140351\n",
      "Test: 67.2225416906268\n"
     ]
    }
   ],
   "source": [
    "gs_data = {'Training accuracy':gs_train, 'Test accuracy':gs_test}\n",
    "train_test = list(gs_data.keys())\n",
    "values = list(gs_data.values())\n",
    "  \n",
    "fig = plt.figure(figsize = (10, 5))\n",
    " \n",
    "# creating the bar plot\n",
    "plt.bar(train_test, values, color ='gray',\n",
    "        width = 0.4)\n",
    " \n",
    "plt.title(\"Train/Test accuracy for GaussianNB\")\n",
    "plt.show()\n",
    "print(\"Train: \" + str(gs_train))\n",
    "print(\"Test: \" + str(gs_test))"
   ]
  },
  {
   "cell_type": "markdown",
   "id": "3fc2cfa6",
   "metadata": {},
   "source": [
    "### Ummmm, Despite performing poorly, GaussianNB did neither underfit or overfit."
   ]
  },
  {
   "cell_type": "markdown",
   "id": "4dda151d",
   "metadata": {},
   "source": [
    "<h3><font color=teal> \n",
    "    Naïve Bayes (Multinomial)</font></h3>"
   ]
  },
  {
   "cell_type": "code",
   "execution_count": 41,
   "id": "23986a70",
   "metadata": {},
   "outputs": [],
   "source": [
    "#training \n",
    "MultinomialNB_Guassian_Classifier = MultinomialNB()\n",
    "MultinomialNB_Guassian_Classifier.fit(X_train, y_train)\n",
    "y_pred=MultinomialNB_Guassian_Classifier.predict(X_test)"
   ]
  },
  {
   "cell_type": "code",
   "execution_count": 42,
   "id": "1a747c41",
   "metadata": {},
   "outputs": [],
   "source": [
    "nb_train = MultinomialNB_Guassian_Classifier.score(X_train,y_train)*100\n",
    "nb_test = MultinomialNB_Guassian_Classifier.score(X_test,y_test)*100"
   ]
  },
  {
   "cell_type": "code",
   "execution_count": 43,
   "id": "61d05038",
   "metadata": {},
   "outputs": [
    {
     "data": {
      "image/png": "[encoded data removed]",
      "text/plain": [
       "<Figure size 720x360 with 1 Axes>"
      ]
     },
     "metadata": {
      "needs_background": "light"
     },
     "output_type": "display_data"
    },
    {
     "name": "stdout",
     "output_type": "stream",
     "text": [
      "Train: 73.84239286741445\n",
      "Test: 72.45543415756181\n"
     ]
    }
   ],
   "source": [
    "nb_data = {'Training accuracy':nb_train, 'Test accuracy':nb_test}\n",
    "train_test = list(nb_data.keys())\n",
    "values = list(nb_data.values())\n",
    "  \n",
    "fig = plt.figure(figsize = (10, 5))\n",
    " \n",
    "# creating the bar plot\n",
    "plt.bar(train_test, values, color ='gray',\n",
    "        width = 0.4)\n",
    " \n",
    "plt.title(\"Train/Test accuracy for Naïve Bayes Multinomial\")\n",
    "plt.show()\n",
    "print(\"Train: \" + str(nb_train))\n",
    "print(\"Test: \" + str(nb_test))"
   ]
  },
  {
   "cell_type": "markdown",
   "id": "669ee396",
   "metadata": {},
   "source": [
    "<strong><p>Although Naive Bayes (Multinomial) did neither overfit or underfit, it did reach an accuracy of 72.4 percent. Moving to SVM.</p></strong>"
   ]
  },
  {
   "cell_type": "markdown",
   "id": "2682db9d",
   "metadata": {},
   "source": [
    "<h3><font color=teal> \n",
    "    Support Vector Machines with linear kernel</font></h3>"
   ]
  },
  {
   "cell_type": "code",
   "execution_count": 44,
   "id": "a9b5cf02",
   "metadata": {
    "scrolled": true
   },
   "outputs": [],
   "source": [
    "svc=SVC(kernel='linear')\n",
    "svc.fit(X_train,y_train)\n",
    "y_pred=svc.predict(X_test)"
   ]
  },
  {
   "cell_type": "code",
   "execution_count": 45,
   "id": "2a4a3e65",
   "metadata": {},
   "outputs": [],
   "source": [
    "sv_train = svc.score(X_train,y_train)*100\n",
    "sv_test = svc.score(X_test,y_test)*100"
   ]
  },
  {
   "cell_type": "code",
   "execution_count": 46,
   "id": "ce1422dd",
   "metadata": {},
   "outputs": [
    {
     "data": {
      "image/png": "[encoded data removed]",
      "text/plain": [
       "<Figure size 720x360 with 1 Axes>"
      ]
     },
     "metadata": {
      "needs_background": "light"
     },
     "output_type": "display_data"
    },
    {
     "name": "stdout",
     "output_type": "stream",
     "text": [
      "Train: 74.43198159332758\n",
      "Test: 74.00805060379528\n"
     ]
    }
   ],
   "source": [
    "sv_data = {'Training accuracy':sv_train, 'Test accuracy':sv_test}\n",
    "train_test = list(sv_data.keys())\n",
    "values = list(sv_data.values())\n",
    "  \n",
    "fig = plt.figure(figsize = (10, 5))\n",
    " \n",
    "# creating the bar plot\n",
    "plt.bar(train_test, values, color ='gray',\n",
    "        width = 0.4)\n",
    " \n",
    "plt.title(\"Train/Test accuracy for Support Vector Machines with linear kernel\")\n",
    "plt.show()\n",
    "print(\"Train: \" + str(sv_train))\n",
    "print(\"Test: \" + str(sv_test))"
   ]
  },
  {
   "cell_type": "markdown",
   "id": "5cbbccce",
   "metadata": {},
   "source": [
    "### Ummmm🤔, Close to Logistic Regression."
   ]
  },
  {
   "cell_type": "markdown",
   "id": "d32334e7",
   "metadata": {},
   "source": [
    "<h3><font color=teal> \n",
    "    Support Vector Machines with polynomial kernel</font></h3>"
   ]
  },
  {
   "cell_type": "code",
   "execution_count": 47,
   "id": "d08af222",
   "metadata": {
    "scrolled": true
   },
   "outputs": [],
   "source": [
    "poly_svc=SVC(kernel='poly', degree=10, C=1.0) \n",
    "poly_svc.fit(X_train,y_train)\n",
    "y_pred=poly_svc.predict(X_test)"
   ]
  },
  {
   "cell_type": "code",
   "execution_count": 48,
   "id": "beb3190c",
   "metadata": {},
   "outputs": [],
   "source": [
    "svp_train = poly_svc.score(X_train,y_train)*100\n",
    "svp_test = poly_svc.score(X_test,y_test)*100"
   ]
  },
  {
   "cell_type": "code",
   "execution_count": 49,
   "id": "2c868eb1",
   "metadata": {},
   "outputs": [
    {
     "data": {
      "image/png": "[encoded data removed]",
      "text/plain": [
       "<Figure size 720x360 with 1 Axes>"
      ]
     },
     "metadata": {
      "needs_background": "light"
     },
     "output_type": "display_data"
    },
    {
     "name": "stdout",
     "output_type": "stream",
     "text": [
      "Train: 70.24733966062698\n",
      "Test: 69.12018401380104\n"
     ]
    }
   ],
   "source": [
    "svp_data = {'Training accuracy':svp_train, 'Test accuracy':svp_test}\n",
    "train_test = list(svp_data.keys())\n",
    "values = list(svp_data.values())\n",
    "  \n",
    "fig = plt.figure(figsize = (10, 5))\n",
    " \n",
    "# creating the bar plot\n",
    "plt.bar(train_test, values, color ='gray',\n",
    "        width = 0.4)\n",
    " \n",
    "plt.title(\"Train/Test accuracy for Support Vector Machines with polynomial kernel\")\n",
    "plt.show()\n",
    "print(\"Train: \" + str(svp_train))\n",
    "print(\"Test: \" + str(svp_test))"
   ]
  },
  {
   "cell_type": "markdown",
   "id": "db3be06f",
   "metadata": {},
   "source": [
    "### On both the train and test sets, SVM with a polynomial kernel had poor accuracy."
   ]
  },
  {
   "cell_type": "markdown",
   "id": "6bbbc98b",
   "metadata": {},
   "source": [
    "<h3><font color=teal> \n",
    "    Perceptron</font></h3>"
   ]
  },
  {
   "cell_type": "code",
   "execution_count": 50,
   "id": "9707160d",
   "metadata": {},
   "outputs": [],
   "source": [
    "model = Perceptron()\n",
    "cv = RepeatedStratifiedKFold(n_splits=10, n_repeats=3, random_state=1)\n",
    "grid = dict()\n",
    "grid['eta0'] = [0.0001, 0.001, 0.01, 0.1, 1.0]\n",
    "search = GridSearchCV(model, grid, scoring='accuracy', cv=cv)\n",
    "results = search.fit(X_train, y_train)"
   ]
  },
  {
   "cell_type": "code",
   "execution_count": 51,
   "id": "ab2abd30",
   "metadata": {},
   "outputs": [],
   "source": [
    "per_train = search.score(X_train,y_train)*100\n",
    "per_test = search.score(X_test,y_test)*100"
   ]
  },
  {
   "cell_type": "code",
   "execution_count": 52,
   "id": "1217b73b",
   "metadata": {},
   "outputs": [
    {
     "data": {
      "image/png": "[encoded data removed]",
      "text/plain": [
       "<Figure size 720x360 with 1 Axes>"
      ]
     },
     "metadata": {
      "needs_background": "light"
     },
     "output_type": "display_data"
    },
    {
     "name": "stdout",
     "output_type": "stream",
     "text": [
      "Train: 73.61230946218004\n",
      "Test: 73.89304197814836\n"
     ]
    }
   ],
   "source": [
    "per_data = {'Training accuracy':per_train, 'Test accuracy':per_test}\n",
    "train_test = list(per_data.keys())\n",
    "values = list(per_data.values())\n",
    "  \n",
    "fig = plt.figure(figsize = (10, 5))\n",
    " \n",
    "# creating the bar plot\n",
    "plt.bar(train_test, values, color ='gray',\n",
    "        width = 0.4)\n",
    " \n",
    "plt.title(\"Train/Test accuracy for Perceptron\")\n",
    "plt.show()\n",
    "print(\"Train: \" + str(per_train))\n",
    "print(\"Test: \" + str(per_test))"
   ]
  },
  {
   "cell_type": "markdown",
   "id": "a2bcd038",
   "metadata": {},
   "source": [
    "# ------------------------------------------------------------------------------------------------------------"
   ]
  },
  {
   "cell_type": "markdown",
   "id": "8c68427a",
   "metadata": {},
   "source": [
    "<center><strong><h1 style=\"color:navy\">Train accuracy for models</h1></strong></center>"
   ]
  },
  {
   "cell_type": "code",
   "execution_count": 53,
   "id": "2ca83350",
   "metadata": {},
   "outputs": [
    {
     "data": {
      "image/png": "[encoded data removed]",
      "text/plain": [
       "<Figure size 720x360 with 1 Axes>"
      ]
     },
     "metadata": {
      "needs_background": "light"
     },
     "output_type": "display_data"
    }
   ],
   "source": [
    "data = {'Logistic reg':lr_train, 'KNN':kn_train, \"RF\":rf1_train, \"GaussianNB\":gs_train, \"Naïve Bayes\":nb_train, \n",
    "        \"SVC_linear\":sv_train, \"SVC_poly\":svp_train, \"Perceptron\":per_train}\n",
    "train_test = list(data.keys())\n",
    "values = list(data.values())\n",
    "  \n",
    "fig = plt.figure(figsize = (10, 5))\n",
    " \n",
    "# creating the bar plot\n",
    "plt.bar(train_test, values, color ='gray',\n",
    "        width = 0.4)\n",
    " \n",
    "plt.title(\"Train/Test accuracy for KNeighborsClassifier\")\n",
    "plt.show()"
   ]
  },
  {
   "cell_type": "markdown",
   "id": "3f5c9780",
   "metadata": {},
   "source": [
    "<center><h3>Execluding Random Forests because it overfits.</h3></center>"
   ]
  },
  {
   "cell_type": "code",
   "execution_count": 54,
   "id": "4dda4367",
   "metadata": {},
   "outputs": [
    {
     "data": {
      "image/png": "[encoded data removed]",
      "text/plain": [
       "<Figure size 720x360 with 1 Axes>"
      ]
     },
     "metadata": {
      "needs_background": "light"
     },
     "output_type": "display_data"
    }
   ],
   "source": [
    "data = {'Logistic reg':lr_train, 'KNN':kn_train, \"GaussianNB\":gs_train, \"Naïve Bayes\":nb_train, \n",
    "        \"SVC_linear\":sv_train, \"SVC_poly\":svp_train, \"Perceptron\":per_train}\n",
    "train_test = list(data.keys())\n",
    "values = list(data.values())\n",
    "  \n",
    "fig = plt.figure(figsize = (10, 5))\n",
    " \n",
    "# creating the bar plot\n",
    "plt.bar(train_test, values, color ='gray',\n",
    "        width = 0.4)\n",
    " \n",
    "plt.title(\"Train/Test accuracy for KNeighborsClassifier\")\n",
    "plt.show()"
   ]
  },
  {
   "cell_type": "markdown",
   "id": "290ccf1c",
   "metadata": {},
   "source": [
    "<center><strong><h1 style=\"color:navy\">Test accuracy for models</h1></strong></center>"
   ]
  },
  {
   "cell_type": "code",
   "execution_count": 55,
   "id": "95483b3a",
   "metadata": {},
   "outputs": [
    {
     "data": {
      "image/png": "[encoded data removed]",
      "text/plain": [
       "<Figure size 720x360 with 1 Axes>"
      ]
     },
     "metadata": {
      "needs_background": "light"
     },
     "output_type": "display_data"
    }
   ],
   "source": [
    "data = {'Logistic reg':lr_test, 'KNN':kn_test, \"GaussianNB\":gs_test, \"Naïve Bayes\":nb_test, \n",
    "        \"SVC_linear\":sv_test, \"SVC_poly\":svp_test, \"Perceptron\":per_test}\n",
    "train_test = list(data.keys())\n",
    "values = list(data.values())\n",
    "  \n",
    "fig = plt.figure(figsize = (10, 5))\n",
    " \n",
    "# creating the bar plot\n",
    "plt.bar(train_test, values, color ='gray',\n",
    "        width = 0.4)\n",
    " \n",
    "plt.title(\"Train/Test accuracy for KNeighborsClassifier\")\n",
    "plt.show()"
   ]
  },
  {
   "cell_type": "markdown",
   "id": "c950baa1",
   "metadata": {},
   "source": [
    "<center><strong><h3 style=\"color:teal\"> I can determine that KNN is the winner by reaching an accuracy of 82.22605% on the training data and an accuracy of 75.79068% on the testing data from the above bar blots for Train/Test accuracy for the models that I have employed.</h3></strong></center>"
   ]
  },
  {
   "cell_type": "markdown",
   "id": "e7d94de4",
   "metadata": {},
   "source": [
    "<a id='hyper'></a>\n",
    "\n",
    "<h1><center><font color=navy> \n",
    "    HyperParameters Tuning Phase</font></center></h1>"
   ]
  },
  {
   "cell_type": "markdown",
   "id": "a90ca640",
   "metadata": {},
   "source": [
    "<h1><font color=teal> \n",
    "   KNN</font></h1>"
   ]
  },
  {
   "cell_type": "code",
   "execution_count": 56,
   "id": "89b5809f",
   "metadata": {
    "scrolled": false
   },
   "outputs": [
    {
     "data": {
      "image/png": "[encoded data removed]",
      "text/plain": [
       "<Figure size 720x432 with 1 Axes>"
      ]
     },
     "metadata": {
      "needs_background": "light"
     },
     "output_type": "display_data"
    }
   ],
   "source": [
    "mean_acc = np.zeros(20)\n",
    "for i in range(1,21):\n",
    "    #Train Model and Predict  \n",
    "    knn = KNeighborsClassifier(n_neighbors = i).fit(X_train,y_train)\n",
    "    yhat= knn.predict(X_test)\n",
    "    mean_acc[i-1] = metrics.accuracy_score(y_test, yhat)\n",
    "\n",
    "loc = np.arange(1,21,step=1.0)\n",
    "plt.figure(figsize = (10, 6))\n",
    "plt.plot(range(1,21), mean_acc)\n",
    "plt.xticks(loc)\n",
    "plt.xlabel('Number of Neighbors ')\n",
    "plt.ylabel('Accuracy')\n",
    "plt.show()"
   ]
  },
  {
   "cell_type": "markdown",
   "id": "7500a565",
   "metadata": {},
   "source": [
    "## Using GridSearch"
   ]
  },
  {
   "cell_type": "code",
   "execution_count": 57,
   "id": "e9c1cbd8",
   "metadata": {},
   "outputs": [],
   "source": [
    "grid_params = { 'n_neighbors' : [7,13,14],\n",
    "               'weights' : ['uniform','distance'],\n",
    "               'metric' : ['minkowski','euclidean','manhattan']}"
   ]
  },
  {
   "cell_type": "code",
   "execution_count": 59,
   "id": "f70ec641",
   "metadata": {},
   "outputs": [
    {
     "name": "stdout",
     "output_type": "stream",
     "text": [
      "Fitting 3 folds for each of 18 candidates, totalling 54 fits\n"
     ]
    },
    {
     "data": {
      "text/plain": [
       "0.7654587287891861"
      ]
     },
     "execution_count": 59,
     "metadata": {},
     "output_type": "execute_result"
    }
   ],
   "source": [
    "gs = GridSearchCV(KNeighborsClassifier(), grid_params, verbose = 1, cv=3, n_jobs = -1)\n",
    "g_res = gs.fit(X_train, y_train)\n",
    "g_res.best_score_"
   ]
  },
  {
   "cell_type": "code",
   "execution_count": 60,
   "id": "b1ffb9bb",
   "metadata": {},
   "outputs": [
    {
     "data": {
      "text/plain": [
       "{'metric': 'minkowski', 'n_neighbors': 7, 'weights': 'uniform'}"
      ]
     },
     "execution_count": 60,
     "metadata": {},
     "output_type": "execute_result"
    }
   ],
   "source": [
    "g_res.best_params_"
   ]
  },
  {
   "cell_type": "markdown",
   "id": "7339f0b6",
   "metadata": {},
   "source": [
    "## This is the best score that we can achieve with KNN"
   ]
  },
  {
   "cell_type": "markdown",
   "id": "7d5b3a3d",
   "metadata": {},
   "source": [
    "# ---------------------------------------------------------------------------------------------------"
   ]
  },
  {
   "cell_type": "markdown",
   "id": "b030c48f",
   "metadata": {},
   "source": [
    "<h1><font color=teal> \n",
    "   Random Forests</font></h1>"
   ]
  },
  {
   "cell_type": "code",
   "execution_count": 61,
   "id": "c6818e87",
   "metadata": {},
   "outputs": [
    {
     "data": {
      "image/png": "[encoded data removed]",
      "text/plain": [
       "<Figure size 432x288 with 1 Axes>"
      ]
     },
     "metadata": {
      "needs_background": "light"
     },
     "output_type": "display_data"
    },
    {
     "name": "stdout",
     "output_type": "stream",
     "text": [
      "Random Forest Accuracy:  78.90%\n"
     ]
    }
   ],
   "source": [
    "scoreListRF = []\n",
    "for i in range(2,25):\n",
    "    RFclassifier = RandomForestClassifier(n_estimators = 100, random_state = 1, max_leaf_nodes=i)\n",
    "    RFclassifier.fit(X_train, y_train)\n",
    "    scoreListRF.append(RFclassifier.score(X_test, y_test))\n",
    "    \n",
    "plt.plot(range(2,25), scoreListRF)\n",
    "plt.xticks(np.arange(2,25,1))\n",
    "plt.xlabel(\"RF Value\")\n",
    "plt.ylabel(\"Score\")\n",
    "plt.show()\n",
    "RFAcc = max(scoreListRF)\n",
    "print(\"Random Forest Accuracy:  {:.2f}%\".format(RFAcc*100))"
   ]
  },
  {
   "cell_type": "markdown",
   "id": "97259e5e",
   "metadata": {},
   "source": [
    "## Using GridSearchCV"
   ]
  },
  {
   "cell_type": "code",
   "execution_count": 62,
   "id": "9ec1d962",
   "metadata": {
    "scrolled": true
   },
   "outputs": [
    {
     "data": {
      "text/html": [
       "<style>#sk-container-id-1 {color: black;background-color: white;}#sk-container-id-1 pre{padding: 0;}#sk-container-id-1 div.sk-toggleable {background-color: white;}#sk-container-id-1 label.sk-toggleable__label {cursor: pointer;display: block;width: 100%;margin-bottom: 0;padding: 0.3em;box-sizing: border-box;text-align: center;}#sk-container-id-1 label.sk-toggleable__label-arrow:before {content: \"▸\";float: left;margin-right: 0.25em;color: #696969;}#sk-container-id-1 label.sk-toggleable__label-arrow:hover:before {color: black;}#sk-container-id-1 div.sk-estimator:hover label.sk-toggleable__label-arrow:before {color: black;}#sk-container-id-1 div.sk-toggleable__content {max-height: 0;max-width: 0;overflow: hidden;text-align: left;background-color: #f0f8ff;}#sk-container-id-1 div.sk-toggleable__content pre {margin: 0.2em;color: black;border-radius: 0.25em;background-color: #f0f8ff;}#sk-container-id-1 input.sk-toggleable__control:checked~div.sk-toggleable__content {max-height: 200px;max-width: 100%;overflow: auto;}#sk-container-id-1 input.sk-toggleable__control:checked~label.sk-toggleable__label-arrow:before {content: \"▾\";}#sk-container-id-1 div.sk-estimator input.sk-toggleable__control:checked~label.sk-toggleable__label {background-color: #d4ebff;}#sk-container-id-1 div.sk-label input.sk-toggleable__control:checked~label.sk-toggleable__label {background-color: #d4ebff;}#sk-container-id-1 input.sk-hidden--visually {border: 0;clip: rect(1px 1px 1px 1px);clip: rect(1px, 1px, 1px, 1px);height: 1px;margin: -1px;overflow: hidden;padding: 0;position: absolute;width: 1px;}#sk-container-id-1 div.sk-estimator {font-family: monospace;background-color: #f0f8ff;border: 1px dotted black;border-radius: 0.25em;box-sizing: border-box;margin-bottom: 0.5em;}#sk-container-id-1 div.sk-estimator:hover {background-color: #d4ebff;}#sk-container-id-1 div.sk-parallel-item::after {content: \"\";width: 100%;border-bottom: 1px solid gray;flex-grow: 1;}#sk-container-id-1 div.sk-label:hover label.sk-toggleable__label {background-color: #d4ebff;}#sk-container-id-1 div.sk-serial::before {content: \"\";position: absolute;border-left: 1px solid gray;box-sizing: border-box;top: 0;bottom: 0;left: 50%;z-index: 0;}#sk-container-id-1 div.sk-serial {display: flex;flex-direction: column;align-items: center;background-color: white;padding-right: 0.2em;padding-left: 0.2em;position: relative;}#sk-container-id-1 div.sk-item {position: relative;z-index: 1;}#sk-container-id-1 div.sk-parallel {display: flex;align-items: stretch;justify-content: center;background-color: white;position: relative;}#sk-container-id-1 div.sk-item::before, #sk-container-id-1 div.sk-parallel-item::before {content: \"\";position: absolute;border-left: 1px solid gray;box-sizing: border-box;top: 0;bottom: 0;left: 50%;z-index: -1;}#sk-container-id-1 div.sk-parallel-item {display: flex;flex-direction: column;z-index: 1;position: relative;background-color: white;}#sk-container-id-1 div.sk-parallel-item:first-child::after {align-self: flex-end;width: 50%;}#sk-container-id-1 div.sk-parallel-item:last-child::after {align-self: flex-start;width: 50%;}#sk-container-id-1 div.sk-parallel-item:only-child::after {width: 0;}#sk-container-id-1 div.sk-dashed-wrapped {border: 1px dashed gray;margin: 0 0.4em 0.5em 0.4em;box-sizing: border-box;padding-bottom: 0.4em;background-color: white;}#sk-container-id-1 div.sk-label label {font-family: monospace;font-weight: bold;display: inline-block;line-height: 1.2em;}#sk-container-id-1 div.sk-label-container {text-align: center;}#sk-container-id-1 div.sk-container {/* jupyter's `normalize.less` sets `[hidden] { display: none; }` but bootstrap.min.css set `[hidden] { display: none !important; }` so we also need the `!important` here to be able to override the default hidden behavior on the sphinx rendered scikit-learn.org. See: https://github.com/scikit-learn/scikit-learn/issues/21755 */display: inline-block !important;position: relative;}#sk-container-id-1 div.sk-text-repr-fallback {display: none;}</style><div id=\"sk-container-id-1\" class=\"sk-top-container\"><div class=\"sk-text-repr-fallback\"><pre>GridSearchCV(cv=5, estimator=RandomForestClassifier(random_state=42),\n",
       "             param_grid={&#x27;criterion&#x27;: [&#x27;gini&#x27;, &#x27;entropy&#x27;],\n",
       "                         &#x27;max_depth&#x27;: [4, 5, 6, 7, 8],\n",
       "                         &#x27;max_features&#x27;: [&#x27;auto&#x27;, &#x27;sqrt&#x27;, &#x27;log2&#x27;],\n",
       "                         &#x27;n_estimators&#x27;: [200, 500]})</pre><b>In a Jupyter environment, please rerun this cell to show the HTML representation or trust the notebook. <br />On GitHub, the HTML representation is unable to render, please try loading this page with nbviewer.org.</b></div><div class=\"sk-container\" hidden><div class=\"sk-item sk-dashed-wrapped\"><div class=\"sk-label-container\"><div class=\"sk-label sk-toggleable\"><input class=\"sk-toggleable__control sk-hidden--visually\" id=\"sk-estimator-id-1\" type=\"checkbox\" ><label for=\"sk-estimator-id-1\" class=\"sk-toggleable__label sk-toggleable__label-arrow\">GridSearchCV</label><div class=\"sk-toggleable__content\"><pre>GridSearchCV(cv=5, estimator=RandomForestClassifier(random_state=42),\n",
       "             param_grid={&#x27;criterion&#x27;: [&#x27;gini&#x27;, &#x27;entropy&#x27;],\n",
       "                         &#x27;max_depth&#x27;: [4, 5, 6, 7, 8],\n",
       "                         &#x27;max_features&#x27;: [&#x27;auto&#x27;, &#x27;sqrt&#x27;, &#x27;log2&#x27;],\n",
       "                         &#x27;n_estimators&#x27;: [200, 500]})</pre></div></div></div><div class=\"sk-parallel\"><div class=\"sk-parallel-item\"><div class=\"sk-item\"><div class=\"sk-label-container\"><div class=\"sk-label sk-toggleable\"><input class=\"sk-toggleable__control sk-hidden--visually\" id=\"sk-estimator-id-2\" type=\"checkbox\" ><label for=\"sk-estimator-id-2\" class=\"sk-toggleable__label sk-toggleable__label-arrow\">estimator: RandomForestClassifier</label><div class=\"sk-toggleable__content\"><pre>RandomForestClassifier(random_state=42)</pre></div></div></div><div class=\"sk-serial\"><div class=\"sk-item\"><div class=\"sk-estimator sk-toggleable\"><input class=\"sk-toggleable__control sk-hidden--visually\" id=\"sk-estimator-id-3\" type=\"checkbox\" ><label for=\"sk-estimator-id-3\" class=\"sk-toggleable__label sk-toggleable__label-arrow\">RandomForestClassifier</label><div class=\"sk-toggleable__content\"><pre>RandomForestClassifier(random_state=42)</pre></div></div></div></div></div></div></div></div></div></div>"
      ],
      "text/plain": [
       "GridSearchCV(cv=5, estimator=RandomForestClassifier(random_state=42),\n",
       "             param_grid={'criterion': ['gini', 'entropy'],\n",
       "                         'max_depth': [4, 5, 6, 7, 8],\n",
       "                         'max_features': ['auto', 'sqrt', 'log2'],\n",
       "                         'n_estimators': [200, 500]})"
      ]
     },
     "execution_count": 62,
     "metadata": {},
     "output_type": "execute_result"
    }
   ],
   "source": [
    "rfc=RandomForestClassifier(random_state=42)\n",
    "param_grid = { \n",
    "    'n_estimators': [200, 500],\n",
    "    'max_features': ['auto', 'sqrt', 'log2'],\n",
    "    'max_depth' : [4,5,6,7,8],\n",
    "    'criterion' :['gini', 'entropy']\n",
    "}\n",
    "\n",
    "CV_rfc = GridSearchCV(estimator=rfc, param_grid=param_grid, cv= 5)\n",
    "CV_rfc.fit(X_train, y_train)"
   ]
  },
  {
   "cell_type": "code",
   "execution_count": 63,
   "id": "db618981",
   "metadata": {},
   "outputs": [
    {
     "data": {
      "text/plain": [
       "{'criterion': 'entropy',\n",
       " 'max_depth': 8,\n",
       " 'max_features': 'auto',\n",
       " 'n_estimators': 500}"
      ]
     },
     "execution_count": 63,
     "metadata": {},
     "output_type": "execute_result"
    }
   ],
   "source": [
    "CV_rfc.best_params_"
   ]
  },
  {
   "cell_type": "code",
   "execution_count": 64,
   "id": "69d15da2",
   "metadata": {},
   "outputs": [],
   "source": [
    "rfc1=RandomForestClassifier(random_state=42, max_features='auto', n_estimators= 500, max_depth=8, criterion='gini')"
   ]
  },
  {
   "cell_type": "code",
   "execution_count": 65,
   "id": "63f2a74f",
   "metadata": {
    "scrolled": true
   },
   "outputs": [
    {
     "data": {
      "text/html": [
       "<style>#sk-container-id-2 {color: black;background-color: white;}#sk-container-id-2 pre{padding: 0;}#sk-container-id-2 div.sk-toggleable {background-color: white;}#sk-container-id-2 label.sk-toggleable__label {cursor: pointer;display: block;width: 100%;margin-bottom: 0;padding: 0.3em;box-sizing: border-box;text-align: center;}#sk-container-id-2 label.sk-toggleable__label-arrow:before {content: \"▸\";float: left;margin-right: 0.25em;color: #696969;}#sk-container-id-2 label.sk-toggleable__label-arrow:hover:before {color: black;}#sk-container-id-2 div.sk-estimator:hover label.sk-toggleable__label-arrow:before {color: black;}#sk-container-id-2 div.sk-toggleable__content {max-height: 0;max-width: 0;overflow: hidden;text-align: left;background-color: #f0f8ff;}#sk-container-id-2 div.sk-toggleable__content pre {margin: 0.2em;color: black;border-radius: 0.25em;background-color: #f0f8ff;}#sk-container-id-2 input.sk-toggleable__control:checked~div.sk-toggleable__content {max-height: 200px;max-width: 100%;overflow: auto;}#sk-container-id-2 input.sk-toggleable__control:checked~label.sk-toggleable__label-arrow:before {content: \"▾\";}#sk-container-id-2 div.sk-estimator input.sk-toggleable__control:checked~label.sk-toggleable__label {background-color: #d4ebff;}#sk-container-id-2 div.sk-label input.sk-toggleable__control:checked~label.sk-toggleable__label {background-color: #d4ebff;}#sk-container-id-2 input.sk-hidden--visually {border: 0;clip: rect(1px 1px 1px 1px);clip: rect(1px, 1px, 1px, 1px);height: 1px;margin: -1px;overflow: hidden;padding: 0;position: absolute;width: 1px;}#sk-container-id-2 div.sk-estimator {font-family: monospace;background-color: #f0f8ff;border: 1px dotted black;border-radius: 0.25em;box-sizing: border-box;margin-bottom: 0.5em;}#sk-container-id-2 div.sk-estimator:hover {background-color: #d4ebff;}#sk-container-id-2 div.sk-parallel-item::after {content: \"\";width: 100%;border-bottom: 1px solid gray;flex-grow: 1;}#sk-container-id-2 div.sk-label:hover label.sk-toggleable__label {background-color: #d4ebff;}#sk-container-id-2 div.sk-serial::before {content: \"\";position: absolute;border-left: 1px solid gray;box-sizing: border-box;top: 0;bottom: 0;left: 50%;z-index: 0;}#sk-container-id-2 div.sk-serial {display: flex;flex-direction: column;align-items: center;background-color: white;padding-right: 0.2em;padding-left: 0.2em;position: relative;}#sk-container-id-2 div.sk-item {position: relative;z-index: 1;}#sk-container-id-2 div.sk-parallel {display: flex;align-items: stretch;justify-content: center;background-color: white;position: relative;}#sk-container-id-2 div.sk-item::before, #sk-container-id-2 div.sk-parallel-item::before {content: \"\";position: absolute;border-left: 1px solid gray;box-sizing: border-box;top: 0;bottom: 0;left: 50%;z-index: -1;}#sk-container-id-2 div.sk-parallel-item {display: flex;flex-direction: column;z-index: 1;position: relative;background-color: white;}#sk-container-id-2 div.sk-parallel-item:first-child::after {align-self: flex-end;width: 50%;}#sk-container-id-2 div.sk-parallel-item:last-child::after {align-self: flex-start;width: 50%;}#sk-container-id-2 div.sk-parallel-item:only-child::after {width: 0;}#sk-container-id-2 div.sk-dashed-wrapped {border: 1px dashed gray;margin: 0 0.4em 0.5em 0.4em;box-sizing: border-box;padding-bottom: 0.4em;background-color: white;}#sk-container-id-2 div.sk-label label {font-family: monospace;font-weight: bold;display: inline-block;line-height: 1.2em;}#sk-container-id-2 div.sk-label-container {text-align: center;}#sk-container-id-2 div.sk-container {/* jupyter's `normalize.less` sets `[hidden] { display: none; }` but bootstrap.min.css set `[hidden] { display: none !important; }` so we also need the `!important` here to be able to override the default hidden behavior on the sphinx rendered scikit-learn.org. See: https://github.com/scikit-learn/scikit-learn/issues/21755 */display: inline-block !important;position: relative;}#sk-container-id-2 div.sk-text-repr-fallback {display: none;}</style><div id=\"sk-container-id-2\" class=\"sk-top-container\"><div class=\"sk-text-repr-fallback\"><pre>RandomForestClassifier(max_depth=8, max_features=&#x27;auto&#x27;, n_estimators=500,\n",
       "                       random_state=42)</pre><b>In a Jupyter environment, please rerun this cell to show the HTML representation or trust the notebook. <br />On GitHub, the HTML representation is unable to render, please try loading this page with nbviewer.org.</b></div><div class=\"sk-container\" hidden><div class=\"sk-item\"><div class=\"sk-estimator sk-toggleable\"><input class=\"sk-toggleable__control sk-hidden--visually\" id=\"sk-estimator-id-4\" type=\"checkbox\" checked><label for=\"sk-estimator-id-4\" class=\"sk-toggleable__label sk-toggleable__label-arrow\">RandomForestClassifier</label><div class=\"sk-toggleable__content\"><pre>RandomForestClassifier(max_depth=8, max_features=&#x27;auto&#x27;, n_estimators=500,\n",
       "                       random_state=42)</pre></div></div></div></div></div>"
      ],
      "text/plain": [
       "RandomForestClassifier(max_depth=8, max_features='auto', n_estimators=500,\n",
       "                       random_state=42)"
      ]
     },
     "execution_count": 65,
     "metadata": {},
     "output_type": "execute_result"
    }
   ],
   "source": [
    "rfc1.fit(X_train, y_train)"
   ]
  },
  {
   "cell_type": "code",
   "execution_count": 66,
   "id": "3b6426ad",
   "metadata": {},
   "outputs": [
    {
     "name": "stdout",
     "output_type": "stream",
     "text": [
      "Accuracy on the training set is: 81.43514524014955\n",
      "Accuracy for Random Forest on CV data:  78.72340425531915\n"
     ]
    }
   ],
   "source": [
    "pred=rfc1.predict(X_test)\n",
    "print(\"Accuracy on the training set is: \" + str(rfc1.score(X_train,y_train)*100))\n",
    "print(\"Accuracy for Random Forest on CV data: \",accuracy_score(y_test,pred)*100)"
   ]
  },
  {
   "cell_type": "markdown",
   "id": "a77d07d4",
   "metadata": {},
   "source": [
    "<strong><p> Therefore, what we did was utilise gridSearch to fine-tune the RandomForest parameters, and the result is the best parameters we can use, giving us the best accuracy without overfitting like we get in the base model.</p></strong>"
   ]
  },
  {
   "cell_type": "markdown",
   "id": "bf496ac5",
   "metadata": {},
   "source": [
    "<h1><font color=green> \n",
    "   SVM with differet C values</font></h1>"
   ]
  },
  {
   "cell_type": "markdown",
   "id": "4dedb993",
   "metadata": {},
   "source": [
    "<h3 style=\"color:navy\">Kernel = Linear</h3>"
   ]
  },
  {
   "cell_type": "code",
   "execution_count": 67,
   "id": "20373b16",
   "metadata": {
    "scrolled": true
   },
   "outputs": [],
   "source": [
    "svc1 = SVC(kernel='linear', C=400)\n",
    "svc1.fit(X_train,y_train)\n",
    "y_pred=svc1.predict(X_test)\n",
    "sv1_train = svc1.score(X_train,y_train)*100\n",
    "sv1_test = svc1.score(X_test,y_test)*100"
   ]
  },
  {
   "cell_type": "code",
   "execution_count": 68,
   "id": "6666b253",
   "metadata": {},
   "outputs": [],
   "source": [
    "svc2 = SVC(kernel='linear', C=300.0)\n",
    "svc2.fit(X_train,y_train)\n",
    "y_pred=svc2.predict(X_test)\n",
    "sv2_train = svc2.score(X_train,y_train)*100\n",
    "sv2_test = svc2.score(X_test,y_test)*100"
   ]
  },
  {
   "cell_type": "code",
   "execution_count": 69,
   "id": "5b6113ff",
   "metadata": {},
   "outputs": [],
   "source": [
    "svc3 = SVC(kernel='linear', C=800.0)\n",
    "svc3.fit(X_train,y_train)\n",
    "y_pred=svc3.predict(X_test)\n",
    "sv3_train = svc3.score(X_train,y_train)*100\n",
    "sv3_test = svc3.score(X_test,y_test)*100"
   ]
  },
  {
   "cell_type": "code",
   "execution_count": 70,
   "id": "bb282f92",
   "metadata": {},
   "outputs": [
    {
     "data": {
      "image/png": "[encoded data removed]",
      "text/plain": [
       "<Figure size 720x360 with 1 Axes>"
      ]
     },
     "metadata": {
      "needs_background": "light"
     },
     "output_type": "display_data"
    }
   ],
   "source": [
    "sv_tuning = {'base':sv_train, '300':sv2_train, \"400\":sv1_train, \"800\":sv3_train}\n",
    "c_values = list(sv_tuning.keys())\n",
    "values = list(sv_tuning.values())\n",
    "  \n",
    "fig = plt.figure(figsize = (10, 5))\n",
    " \n",
    "# creating the bar plot\n",
    "plt.bar(c_values, values, color ='gray',\n",
    "        width = 0.4)\n",
    " \n",
    "plt.title(\"Different c values for svm with kernel = Linear\")\n",
    "plt.show()"
   ]
  },
  {
   "cell_type": "markdown",
   "id": "8bd112ee",
   "metadata": {},
   "source": [
    "## As can be seen, the models with C = 400 and C = 300 are very similar and both have the best accuracy."
   ]
  },
  {
   "cell_type": "markdown",
   "id": "0a7f5fc2",
   "metadata": {},
   "source": [
    "<h3 style=\"color:navy\">Kernel = polynomial</h3>"
   ]
  },
  {
   "cell_type": "code",
   "execution_count": 71,
   "id": "4747f621",
   "metadata": {},
   "outputs": [],
   "source": [
    "svc_poly1 = SVC(kernel='poly', C=0.5)\n",
    "svc_poly1.fit(X_train,y_train)\n",
    "y_pred=svc_poly1.predict(X_test)\n",
    "sv_poly1_train = svc_poly1.score(X_train,y_train)*100\n",
    "sv_poly1_test = svc_poly1.score(X_test,y_test)*100"
   ]
  },
  {
   "cell_type": "code",
   "execution_count": 72,
   "id": "52ea5faf",
   "metadata": {},
   "outputs": [],
   "source": [
    "svc_poly2 = SVC(kernel='poly', C=100)\n",
    "svc_poly2.fit(X_train,y_train)\n",
    "y_pred=svc_poly2.predict(X_test)\n",
    "sv_poly2_train = svc_poly2.score(X_train,y_train)*100\n",
    "sv_poly2_test = svc_poly2.score(X_test,y_test)*100"
   ]
  },
  {
   "cell_type": "code",
   "execution_count": 73,
   "id": "4ca438ea",
   "metadata": {},
   "outputs": [],
   "source": [
    "svc_poly3 = SVC(kernel='poly', C=300)\n",
    "svc_poly3.fit(X_train,y_train)\n",
    "y_pred=svc_poly3.predict(X_test)\n",
    "sv_poly3_train = svc_poly3.score(X_train,y_train)*100\n",
    "sv_poly3_test = svc_poly3.score(X_test,y_test)*100"
   ]
  },
  {
   "cell_type": "code",
   "execution_count": 74,
   "id": "054182b6",
   "metadata": {
    "scrolled": true
   },
   "outputs": [
    {
     "data": {
      "image/png": "[encoded data removed]",
      "text/plain": [
       "<Figure size 720x360 with 1 Axes>"
      ]
     },
     "metadata": {
      "needs_background": "light"
     },
     "output_type": "display_data"
    }
   ],
   "source": [
    "svp_tuning = {'base':svp_train, '300':sv_poly2_train, \"400\":sv_poly1_train, \"800\":sv_poly3_train}\n",
    "c_values = list(svp_tuning.keys())\n",
    "values = list(svp_tuning.values())\n",
    "  \n",
    "fig = plt.figure(figsize = (10, 5))\n",
    " \n",
    "# creating the bar plot\n",
    "plt.bar(c_values, values, color ='gray',\n",
    "        width = 0.4)\n",
    " \n",
    "plt.title(\"Different c values for svm with kernel = Poly\")\n",
    "plt.show()"
   ]
  },
  {
   "cell_type": "markdown",
   "id": "52e99081",
   "metadata": {},
   "source": [
    "## We can see that the model with C = 800 is the one that achieved the best accuracy."
   ]
  },
  {
   "cell_type": "markdown",
   "id": "48823dbd",
   "metadata": {},
   "source": [
    "<h1><center><font color=teal> \n",
    "    Final Results After Applying Hyperparameter Tuning</font></center></h1>"
   ]
  },
  {
   "cell_type": "code",
   "execution_count": 97,
   "id": "8cb4a53a",
   "metadata": {},
   "outputs": [
    {
     "data": {
      "image/png": "[encoded data removed]",
      "text/plain": [
       "<Figure size 720x360 with 1 Axes>"
      ]
     },
     "metadata": {
      "needs_background": "light"
     },
     "output_type": "display_data"
    },
    {
     "name": "stdout",
     "output_type": "stream",
     "text": [
      "KNN: 82.2260569456428\n",
      "RF: 81.43514524014955\n",
      "SVC_poly: 78.68852459016394\n",
      "SVC_linear: 78.09893586425079\n",
      "Logistic Regression: 75.53925798101811\n",
      "Naïve Bayes: 73.84239286741445\n",
      "Perceptron: 73.61230946218004\n",
      "GaussianNB: 69.2982456140351\n"
     ]
    }
   ],
   "source": [
    "data = { 'KNN':kn_train, \"RF\": rfc1.score(X_train,y_train)*100, \"SVC_poly\":sv_poly3_train, \n",
    "        \"SVC_linear\":sv2_train,'Logistic reg':lr_train, \"Naïve Bayes\":nb_train, \n",
    "          \"Perceptron\":per_train, \"GaussianNB\":gs_train,}\n",
    "train_test = list(data.keys())\n",
    "values = list(data.values())\n",
    "  \n",
    "fig = plt.figure(figsize = (10, 5))\n",
    " \n",
    "# creating the bar plot\n",
    "plt.bar(train_test, values, color ='gray',\n",
    "        width = 0.4)\n",
    " \n",
    "plt.title(\"Train accuracy for all the models\")\n",
    "plt.show()\n",
    "\n",
    "print(\"KNN: \" + str(kn_train))\n",
    "print(\"RF: \" + str(rfc1.score(X_train,y_train)*100))\n",
    "print(\"SVC_poly: \" + str(sv_poly3_train))\n",
    "print(\"SVC_linear: \" + str(sv2_train))\n",
    "print(\"Logistic Regression: \" + str(lr_train))\n",
    "print(\"Naïve Bayes: \" + str(nb_train))\n",
    "print(\"Perceptron: \" + str(per_train))\n",
    "print(\"GaussianNB: \" + str(gs_train))"
   ]
  },
  {
   "cell_type": "code",
   "execution_count": 96,
   "id": "4d9efcbe",
   "metadata": {
    "scrolled": false
   },
   "outputs": [
    {
     "data": {
      "image/png": "[encoded data removed]",
      "text/plain": [
       "<Figure size 720x360 with 1 Axes>"
      ]
     },
     "metadata": {
      "needs_background": "light"
     },
     "output_type": "display_data"
    },
    {
     "name": "stdout",
     "output_type": "stream",
     "text": [
      "SVC_poly: 79.35595169637722\n",
      "RF: 78.89591719378953\n",
      "SVC_linear: 78.0333525014376\n",
      "KNN: 76.5458728789186\n",
      "Logistic Regression: 75.56066705002875\n",
      "Naïve Bayes: 72.45543415756181\n",
      "Perceptron: 73.89304197814836\n",
      "GaussianNB: 67.2225416906268\n"
     ]
    }
   ],
   "source": [
    "data = {\"SVC_poly\":sv_poly3_test,\"RF\":RFAcc*100, \"SVC_linear\":sv2_test,'KNN':g_res.best_score_*100,\n",
    "        'Logistic reg':lr_test, \"Perceptron\":per_test, \"Naïve Bayes\":nb_test, \"GaussianNB\":gs_test}  \n",
    "         \n",
    "train_test = list(data.keys())\n",
    "values = list(data.values())\n",
    "  \n",
    "fig = plt.figure(figsize = (10, 5))\n",
    " \n",
    "# creating the bar plot\n",
    "plt.bar(train_test, values, color ='gray',\n",
    "        width = 0.4)\n",
    " \n",
    "plt.title(\"Test accuracy for all the models\")\n",
    "plt.show()\n",
    "\n",
    "print(\"SVC_poly: \" + str(sv_poly3_test))\n",
    "print(\"RF: \" + str(RFAcc*100))\n",
    "print(\"SVC_linear: \" + str(sv2_test))\n",
    "print(\"KNN: \" + str(g_res.best_score_*100))\n",
    "print(\"Logistic Regression: \" + str(lr_test))\n",
    "print(\"Naïve Bayes: \" + str(nb_test))\n",
    "print(\"Perceptron: \" + str(per_test))\n",
    "print(\"GaussianNB: \" + str(gs_test))"
   ]
  },
  {
   "cell_type": "markdown",
   "id": "2eb24fbf",
   "metadata": {},
   "source": [
    "# -------------------------------------------------------------------------------------------------------------"
   ]
  },
  {
   "cell_type": "markdown",
   "id": "297e705d",
   "metadata": {},
   "source": [
    "<a id='res'></a>\n",
    "\n",
    "<center><h1 style=\"color:teal\"> After experimenting with various models🧪 and fine-tuning their parameters🎶, we can conclude that SVC with kerel = poly and C = 800 is the best model, with an accuracy of 79.355%, which is not exceptional but is good. KNN also achieved a good accuracy on the train data, with a precision of 82.226%, but it decreases on the test set, with a precision of 76.5458%🤔. I do believe, however, that there are some models that can achieve more</h1></center>"
   ]
  },
  {
   "cell_type": "markdown",
   "id": "9961502f",
   "metadata": {},
   "source": [
    "# -----------------------------------------------------------------------------------------------------------"
   ]
  },
  {
   "cell_type": "markdown",
   "id": "7614d89e",
   "metadata": {},
   "source": [
    "<h1><center><font color=purple> \n",
    "    And that is it, This is the End of our story.</font></center></h1>\n",
    "   \n",
    "\n",
    "<h1><center><font color=purple> \n",
    "    Thank You😊 See you Soon, Bye👋</font></center></h1>\n",
    "    \n",
    "<h1><center><font color=purple> \n",
    "    See you Soon, Bye👋</font></center></h1>"
   ]
  },
  {
   "cell_type": "code",
   "execution_count": null,
   "id": "2ad76748",
   "metadata": {},
   "outputs": [],
   "source": []
  }
 ],
 "metadata": {
  "kernelspec": {
   "display_name": "Python 3 (ipykernel)",
   "language": "python",
   "name": "python3"
  },
  "language_info": {
   "codemirror_mode": {
    "name": "ipython",
    "version": 3
   },
   "file_extension": ".py",
   "mimetype": "text/x-python",
   "name": "python",
   "nbconvert_exporter": "python",
   "pygments_lexer": "ipython3",
   "version": "3.8.16"
  }
 },
 "nbformat": 4,
 "nbformat_minor": 5
}
